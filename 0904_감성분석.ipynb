{
  "nbformat": 4,
  "nbformat_minor": 0,
  "metadata": {
    "colab": {
      "provenance": [],
      "include_colab_link": true
    },
    "kernelspec": {
      "name": "python3",
      "display_name": "Python 3"
    },
    "language_info": {
      "name": "python"
    }
  },
  "cells": [
    {
      "cell_type": "markdown",
      "metadata": {
        "id": "view-in-github",
        "colab_type": "text"
      },
      "source": [
        "<a href=\"https://colab.research.google.com/github/yeahginny/TextAnalysis/blob/main/0904_%EA%B0%90%EC%84%B1%EB%B6%84%EC%84%9D.ipynb\" target=\"_parent\"><img src=\"https://colab.research.google.com/assets/colab-badge.svg\" alt=\"Open In Colab\"/></a>"
      ]
    },
    {
      "cell_type": "code",
      "source": [
        "!sudo apt-get install -y fonts-nanum\n",
        "!sudo fc-cache -fv\n",
        "!rm ~/.cache/matplotlib -rf"
      ],
      "metadata": {
        "colab": {
          "base_uri": "https://localhost:8080/"
        },
        "id": "Hzrn0eB0-XSk",
        "outputId": "bc012c92-b9b8-4ffa-a983-44e7bf486646"
      },
      "execution_count": null,
      "outputs": [
        {
          "output_type": "stream",
          "name": "stdout",
          "text": [
            "Reading package lists... Done\n",
            "Building dependency tree... Done\n",
            "Reading state information... Done\n",
            "The following NEW packages will be installed:\n",
            "  fonts-nanum\n",
            "0 upgraded, 1 newly installed, 0 to remove and 16 not upgraded.\n",
            "Need to get 10.3 MB of archives.\n",
            "After this operation, 34.1 MB of additional disk space will be used.\n",
            "Get:1 http://archive.ubuntu.com/ubuntu jammy/universe amd64 fonts-nanum all 20200506-1 [10.3 MB]\n",
            "Fetched 10.3 MB in 0s (22.7 MB/s)\n",
            "debconf: unable to initialize frontend: Dialog\n",
            "debconf: (No usable dialog-like program is installed, so the dialog based frontend cannot be used. at /usr/share/perl5/Debconf/FrontEnd/Dialog.pm line 78, <> line 1.)\n",
            "debconf: falling back to frontend: Readline\n",
            "debconf: unable to initialize frontend: Readline\n",
            "debconf: (This frontend requires a controlling tty.)\n",
            "debconf: falling back to frontend: Teletype\n",
            "dpkg-preconfigure: unable to re-open stdin: \n",
            "Selecting previously unselected package fonts-nanum.\n",
            "(Reading database ... 120893 files and directories currently installed.)\n",
            "Preparing to unpack .../fonts-nanum_20200506-1_all.deb ...\n",
            "Unpacking fonts-nanum (20200506-1) ...\n",
            "Setting up fonts-nanum (20200506-1) ...\n",
            "Processing triggers for fontconfig (2.13.1-4.2ubuntu5) ...\n",
            "/usr/share/fonts: caching, new cache contents: 0 fonts, 1 dirs\n",
            "/usr/share/fonts/truetype: caching, new cache contents: 0 fonts, 3 dirs\n",
            "/usr/share/fonts/truetype/humor-sans: caching, new cache contents: 1 fonts, 0 dirs\n",
            "/usr/share/fonts/truetype/liberation: caching, new cache contents: 16 fonts, 0 dirs\n",
            "/usr/share/fonts/truetype/nanum: caching, new cache contents: 12 fonts, 0 dirs\n",
            "/usr/local/share/fonts: caching, new cache contents: 0 fonts, 0 dirs\n",
            "/root/.local/share/fonts: skipping, no such directory\n",
            "/root/.fonts: skipping, no such directory\n",
            "/usr/share/fonts/truetype: skipping, looped directory detected\n",
            "/usr/share/fonts/truetype/humor-sans: skipping, looped directory detected\n",
            "/usr/share/fonts/truetype/liberation: skipping, looped directory detected\n",
            "/usr/share/fonts/truetype/nanum: skipping, looped directory detected\n",
            "/var/cache/fontconfig: cleaning cache directory\n",
            "/root/.cache/fontconfig: not cleaning non-existent cache directory\n",
            "/root/.fontconfig: not cleaning non-existent cache directory\n",
            "fc-cache: succeeded\n"
          ]
        }
      ]
    },
    {
      "cell_type": "code",
      "source": [
        "import pandas as pd"
      ],
      "metadata": {
        "id": "50hk1Dp8zxGv"
      },
      "execution_count": null,
      "outputs": []
    },
    {
      "cell_type": "code",
      "source": [
        "import os"
      ],
      "metadata": {
        "id": "vpNF4a1TzxEL"
      },
      "execution_count": null,
      "outputs": []
    },
    {
      "cell_type": "code",
      "source": [
        "import warnings\n",
        "warnings.filterwarnings(action='ignore')"
      ],
      "metadata": {
        "id": "uFqJ1et1zxBj"
      },
      "execution_count": null,
      "outputs": []
    },
    {
      "cell_type": "code",
      "execution_count": null,
      "metadata": {
        "colab": {
          "base_uri": "https://localhost:8080/"
        },
        "id": "gOStpsgpzrJ2",
        "outputId": "1766f190-04d3-41c5-84f1-18e95567f100"
      },
      "outputs": [
        {
          "output_type": "execute_result",
          "data": {
            "text/plain": [
              "['id\\tdocument\\tlabel\\n',\n",
              " '8112052\\t어릴때보고 지금다시봐도 재밌어요ㅋㅋ\\t1\\n',\n",
              " '8132799\\t디자인을 배우는 학생으로, 외국디자이너와 그들이 일군 전통을 통해 발전해가는 문화산업이 부러웠는데. 사실 우리나라에서도 그 어려운시절에 끝까지 열정을 지킨 노라노 같은 전통이있어 저와 같은 사람들이 꿈을 꾸고 이뤄나갈 수 있다는 것에 감사합니다.\\t1\\n',\n",
              " '4655635\\t폴리스스토리 시리즈는 1부터 뉴까지 버릴께 하나도 없음.. 최고.\\t1\\n',\n",
              " '9251303\\t와.. 연기가 진짜 개쩔구나.. 지루할거라고 생각했는데 몰입해서 봤다.. 그래 이런게 진짜 영화지\\t1\\n',\n",
              " '10067386\\t안개 자욱한 밤하늘에 떠 있는 초승달 같은 영화.\\t1\\n',\n",
              " '2190435\\t사랑을 해본사람이라면 처음부터 끝까지 웃을수 있는영화\\t1\\n',\n",
              " '9279041\\t완전 감동입니다 다시봐도 감동\\t1\\n',\n",
              " '7865729\\t개들의 전쟁2 나오나요? 나오면 1빠로 보고 싶음\\t1\\n',\n",
              " '7477618\\t굿\\t1\\n']"
            ]
          },
          "metadata": {},
          "execution_count": 4
        }
      ],
      "source": [
        "# Open and inspect the first few lines of the provided file\n",
        "with open(\"ratings.txt\", \"r\", encoding=\"utf-8\") as file:\n",
        "    sample_data = file.readlines()[:10]\n",
        "\n",
        "sample_data"
      ]
    },
    {
      "cell_type": "markdown",
      "source": [
        "* 총 데이터 수: 200,000개\n",
        "* id: 각 리뷰에 대한 고유 아이디입니다.\n",
        "* document: 리뷰 텍스트입니다. 200,000개 중 199,992개의 데이터가 있습니다.\n",
        "* label: 레이블이며, 0 또는 1의 값을 가집니다. 이 레이블은 리뷰의 감성을 나타낼 수 있습니다 (예: 긍정적인 리뷰 또는 부정적인 리뷰). 데이터는 균형을 이루고 있으며, 각각의 레이블에 100,000개의 리뷰가 있습니다."
      ],
      "metadata": {
        "id": "lnkpxdjC0Fxd"
      }
    },
    {
      "cell_type": "code",
      "source": [
        "import pandas as pd\n",
        "\n",
        "# 데이터 불러오고 데이터 프레임형식으로 바꾸기\n",
        "df_ratings = pd.read_csv(\"ratings.txt\", sep=\"\\t\")\n",
        "\n",
        "# 데이터 정보\n",
        "df_info = df_ratings.info()\n",
        "df_description = df_ratings.describe(include='all')\n",
        "\n",
        "df_description\n"
      ],
      "metadata": {
        "colab": {
          "base_uri": "https://localhost:8080/",
          "height": 575
        },
        "id": "OnE2IwtW0FET",
        "outputId": "74ffc665-8b24-4873-e6df-7cba5ebf4717"
      },
      "execution_count": null,
      "outputs": [
        {
          "output_type": "stream",
          "name": "stdout",
          "text": [
            "<class 'pandas.core.frame.DataFrame'>\n",
            "RangeIndex: 200000 entries, 0 to 199999\n",
            "Data columns (total 3 columns):\n",
            " #   Column    Non-Null Count   Dtype \n",
            "---  ------    --------------   ----- \n",
            " 0   id        200000 non-null  int64 \n",
            " 1   document  199992 non-null  object\n",
            " 2   label     200000 non-null  int64 \n",
            "dtypes: int64(2), object(1)\n",
            "memory usage: 4.6+ MB\n"
          ]
        },
        {
          "output_type": "execute_result",
          "data": {
            "text/plain": [
              "                  id document          label\n",
              "count   2.000000e+05   199992  200000.000000\n",
              "unique           NaN   194543            NaN\n",
              "top              NaN        굿            NaN\n",
              "freq             NaN      237            NaN\n",
              "mean    6.739774e+06      NaN       0.500000\n",
              "std     2.923504e+06      NaN       0.500001\n",
              "min     3.300000e+01      NaN       0.000000\n",
              "25%     4.760678e+06      NaN       0.000000\n",
              "50%     7.527726e+06      NaN       0.500000\n",
              "75%     9.248413e+06      NaN       1.000000\n",
              "max     1.027815e+07      NaN       1.000000"
            ],
            "text/html": [
              "\n",
              "  <div id=\"df-d5c0bede-5cc5-4ca8-9534-2c86d53e8747\" class=\"colab-df-container\">\n",
              "    <div>\n",
              "<style scoped>\n",
              "    .dataframe tbody tr th:only-of-type {\n",
              "        vertical-align: middle;\n",
              "    }\n",
              "\n",
              "    .dataframe tbody tr th {\n",
              "        vertical-align: top;\n",
              "    }\n",
              "\n",
              "    .dataframe thead th {\n",
              "        text-align: right;\n",
              "    }\n",
              "</style>\n",
              "<table border=\"1\" class=\"dataframe\">\n",
              "  <thead>\n",
              "    <tr style=\"text-align: right;\">\n",
              "      <th></th>\n",
              "      <th>id</th>\n",
              "      <th>document</th>\n",
              "      <th>label</th>\n",
              "    </tr>\n",
              "  </thead>\n",
              "  <tbody>\n",
              "    <tr>\n",
              "      <th>count</th>\n",
              "      <td>2.000000e+05</td>\n",
              "      <td>199992</td>\n",
              "      <td>200000.000000</td>\n",
              "    </tr>\n",
              "    <tr>\n",
              "      <th>unique</th>\n",
              "      <td>NaN</td>\n",
              "      <td>194543</td>\n",
              "      <td>NaN</td>\n",
              "    </tr>\n",
              "    <tr>\n",
              "      <th>top</th>\n",
              "      <td>NaN</td>\n",
              "      <td>굿</td>\n",
              "      <td>NaN</td>\n",
              "    </tr>\n",
              "    <tr>\n",
              "      <th>freq</th>\n",
              "      <td>NaN</td>\n",
              "      <td>237</td>\n",
              "      <td>NaN</td>\n",
              "    </tr>\n",
              "    <tr>\n",
              "      <th>mean</th>\n",
              "      <td>6.739774e+06</td>\n",
              "      <td>NaN</td>\n",
              "      <td>0.500000</td>\n",
              "    </tr>\n",
              "    <tr>\n",
              "      <th>std</th>\n",
              "      <td>2.923504e+06</td>\n",
              "      <td>NaN</td>\n",
              "      <td>0.500001</td>\n",
              "    </tr>\n",
              "    <tr>\n",
              "      <th>min</th>\n",
              "      <td>3.300000e+01</td>\n",
              "      <td>NaN</td>\n",
              "      <td>0.000000</td>\n",
              "    </tr>\n",
              "    <tr>\n",
              "      <th>25%</th>\n",
              "      <td>4.760678e+06</td>\n",
              "      <td>NaN</td>\n",
              "      <td>0.000000</td>\n",
              "    </tr>\n",
              "    <tr>\n",
              "      <th>50%</th>\n",
              "      <td>7.527726e+06</td>\n",
              "      <td>NaN</td>\n",
              "      <td>0.500000</td>\n",
              "    </tr>\n",
              "    <tr>\n",
              "      <th>75%</th>\n",
              "      <td>9.248413e+06</td>\n",
              "      <td>NaN</td>\n",
              "      <td>1.000000</td>\n",
              "    </tr>\n",
              "    <tr>\n",
              "      <th>max</th>\n",
              "      <td>1.027815e+07</td>\n",
              "      <td>NaN</td>\n",
              "      <td>1.000000</td>\n",
              "    </tr>\n",
              "  </tbody>\n",
              "</table>\n",
              "</div>\n",
              "    <div class=\"colab-df-buttons\">\n",
              "\n",
              "  <div class=\"colab-df-container\">\n",
              "    <button class=\"colab-df-convert\" onclick=\"convertToInteractive('df-d5c0bede-5cc5-4ca8-9534-2c86d53e8747')\"\n",
              "            title=\"Convert this dataframe to an interactive table.\"\n",
              "            style=\"display:none;\">\n",
              "\n",
              "  <svg xmlns=\"http://www.w3.org/2000/svg\" height=\"24px\" viewBox=\"0 -960 960 960\">\n",
              "    <path d=\"M120-120v-720h720v720H120Zm60-500h600v-160H180v160Zm220 220h160v-160H400v160Zm0 220h160v-160H400v160ZM180-400h160v-160H180v160Zm440 0h160v-160H620v160ZM180-180h160v-160H180v160Zm440 0h160v-160H620v160Z\"/>\n",
              "  </svg>\n",
              "    </button>\n",
              "\n",
              "  <style>\n",
              "    .colab-df-container {\n",
              "      display:flex;\n",
              "      gap: 12px;\n",
              "    }\n",
              "\n",
              "    .colab-df-convert {\n",
              "      background-color: #E8F0FE;\n",
              "      border: none;\n",
              "      border-radius: 50%;\n",
              "      cursor: pointer;\n",
              "      display: none;\n",
              "      fill: #1967D2;\n",
              "      height: 32px;\n",
              "      padding: 0 0 0 0;\n",
              "      width: 32px;\n",
              "    }\n",
              "\n",
              "    .colab-df-convert:hover {\n",
              "      background-color: #E2EBFA;\n",
              "      box-shadow: 0px 1px 2px rgba(60, 64, 67, 0.3), 0px 1px 3px 1px rgba(60, 64, 67, 0.15);\n",
              "      fill: #174EA6;\n",
              "    }\n",
              "\n",
              "    .colab-df-buttons div {\n",
              "      margin-bottom: 4px;\n",
              "    }\n",
              "\n",
              "    [theme=dark] .colab-df-convert {\n",
              "      background-color: #3B4455;\n",
              "      fill: #D2E3FC;\n",
              "    }\n",
              "\n",
              "    [theme=dark] .colab-df-convert:hover {\n",
              "      background-color: #434B5C;\n",
              "      box-shadow: 0px 1px 3px 1px rgba(0, 0, 0, 0.15);\n",
              "      filter: drop-shadow(0px 1px 2px rgba(0, 0, 0, 0.3));\n",
              "      fill: #FFFFFF;\n",
              "    }\n",
              "  </style>\n",
              "\n",
              "    <script>\n",
              "      const buttonEl =\n",
              "        document.querySelector('#df-d5c0bede-5cc5-4ca8-9534-2c86d53e8747 button.colab-df-convert');\n",
              "      buttonEl.style.display =\n",
              "        google.colab.kernel.accessAllowed ? 'block' : 'none';\n",
              "\n",
              "      async function convertToInteractive(key) {\n",
              "        const element = document.querySelector('#df-d5c0bede-5cc5-4ca8-9534-2c86d53e8747');\n",
              "        const dataTable =\n",
              "          await google.colab.kernel.invokeFunction('convertToInteractive',\n",
              "                                                    [key], {});\n",
              "        if (!dataTable) return;\n",
              "\n",
              "        const docLinkHtml = 'Like what you see? Visit the ' +\n",
              "          '<a target=\"_blank\" href=https://colab.research.google.com/notebooks/data_table.ipynb>data table notebook</a>'\n",
              "          + ' to learn more about interactive tables.';\n",
              "        element.innerHTML = '';\n",
              "        dataTable['output_type'] = 'display_data';\n",
              "        await google.colab.output.renderOutput(dataTable, element);\n",
              "        const docLink = document.createElement('div');\n",
              "        docLink.innerHTML = docLinkHtml;\n",
              "        element.appendChild(docLink);\n",
              "      }\n",
              "    </script>\n",
              "  </div>\n",
              "\n",
              "\n",
              "<div id=\"df-e04908ac-0617-4455-a102-0bd024ed8a61\">\n",
              "  <button class=\"colab-df-quickchart\" onclick=\"quickchart('df-e04908ac-0617-4455-a102-0bd024ed8a61')\"\n",
              "            title=\"Suggest charts.\"\n",
              "            style=\"display:none;\">\n",
              "\n",
              "<svg xmlns=\"http://www.w3.org/2000/svg\" height=\"24px\"viewBox=\"0 0 24 24\"\n",
              "     width=\"24px\">\n",
              "    <g>\n",
              "        <path d=\"M19 3H5c-1.1 0-2 .9-2 2v14c0 1.1.9 2 2 2h14c1.1 0 2-.9 2-2V5c0-1.1-.9-2-2-2zM9 17H7v-7h2v7zm4 0h-2V7h2v10zm4 0h-2v-4h2v4z\"/>\n",
              "    </g>\n",
              "</svg>\n",
              "  </button>\n",
              "\n",
              "<style>\n",
              "  .colab-df-quickchart {\n",
              "    background-color: #E8F0FE;\n",
              "    border: none;\n",
              "    border-radius: 50%;\n",
              "    cursor: pointer;\n",
              "    display: none;\n",
              "    fill: #1967D2;\n",
              "    height: 32px;\n",
              "    padding: 0 0 0 0;\n",
              "    width: 32px;\n",
              "  }\n",
              "\n",
              "  .colab-df-quickchart:hover {\n",
              "    background-color: #E2EBFA;\n",
              "    box-shadow: 0px 1px 2px rgba(60, 64, 67, 0.3), 0px 1px 3px 1px rgba(60, 64, 67, 0.15);\n",
              "    fill: #174EA6;\n",
              "  }\n",
              "\n",
              "  [theme=dark] .colab-df-quickchart {\n",
              "    background-color: #3B4455;\n",
              "    fill: #D2E3FC;\n",
              "  }\n",
              "\n",
              "  [theme=dark] .colab-df-quickchart:hover {\n",
              "    background-color: #434B5C;\n",
              "    box-shadow: 0px 1px 3px 1px rgba(0, 0, 0, 0.15);\n",
              "    filter: drop-shadow(0px 1px 2px rgba(0, 0, 0, 0.3));\n",
              "    fill: #FFFFFF;\n",
              "  }\n",
              "</style>\n",
              "\n",
              "  <script>\n",
              "    async function quickchart(key) {\n",
              "      const charts = await google.colab.kernel.invokeFunction(\n",
              "          'suggestCharts', [key], {});\n",
              "    }\n",
              "    (() => {\n",
              "      let quickchartButtonEl =\n",
              "        document.querySelector('#df-e04908ac-0617-4455-a102-0bd024ed8a61 button');\n",
              "      quickchartButtonEl.style.display =\n",
              "        google.colab.kernel.accessAllowed ? 'block' : 'none';\n",
              "    })();\n",
              "  </script>\n",
              "</div>\n",
              "    </div>\n",
              "  </div>\n"
            ]
          },
          "metadata": {},
          "execution_count": 5
        }
      ]
    },
    {
      "cell_type": "code",
      "source": [
        "# 널값 확인\n",
        "df_ratings_cleaned = df_ratings.dropna()\n",
        "\n",
        "null_counts = df_ratings_cleaned.isnull().sum()\n",
        "\n",
        "null_counts"
      ],
      "metadata": {
        "colab": {
          "base_uri": "https://localhost:8080/"
        },
        "id": "NyumnpXX0OYm",
        "outputId": "99f01afe-a5f6-4114-f8b6-a47b309c7b73"
      },
      "execution_count": null,
      "outputs": [
        {
          "output_type": "execute_result",
          "data": {
            "text/plain": [
              "id          0\n",
              "document    0\n",
              "label       0\n",
              "dtype: int64"
            ]
          },
          "metadata": {},
          "execution_count": 6
        }
      ]
    },
    {
      "cell_type": "code",
      "source": [
        "# 타겟갯수\n",
        "label_counts = df_ratings_cleaned['label'].value_counts()\n",
        "\n",
        "label_counts"
      ],
      "metadata": {
        "colab": {
          "base_uri": "https://localhost:8080/"
        },
        "id": "zGZQUTWh0aYs",
        "outputId": "92837e3a-478a-4304-c2cc-7bef54e1b7fb"
      },
      "execution_count": null,
      "outputs": [
        {
          "output_type": "execute_result",
          "data": {
            "text/plain": [
              "1    99996\n",
              "0    99996\n",
              "Name: label, dtype: int64"
            ]
          },
          "metadata": {},
          "execution_count": 7
        }
      ]
    },
    {
      "cell_type": "code",
      "source": [
        "# 한글 주석 추가하여 코드 재작성\n",
        "import re\n",
        "# 한글 문자가 아닌 문자가 포함되어 있는지 확인하는 함수\n",
        "def 한글_아닌_문자_포함(text):\n",
        "    # 한글 문자, 공백 및 일반 구두점 외의 문자를 찾는 정규 표현식\n",
        "    패턴 = re.compile(r\"[^가-힣\\s.,?!~]\")\n",
        "    return bool(패턴.search(text))\n",
        "\n",
        "# 'document' 열에 함수 적용하여 한글 아닌 문자가 포함된 행 찾기\n",
        "한글_아닌_리뷰 = df_ratings_cleaned[df_ratings_cleaned['document'].apply(한글_아닌_문자_포함)]\n",
        "\n",
        "# 한글 아닌 문자가 포함된 리뷰의 수 및 샘플 리뷰 출력\n",
        "한글_아닌_리뷰_수 = 한글_아닌_리뷰.shape[0]\n",
        "한글_아닌_리뷰_샘플 = 한글_아닌_리뷰.sample(min(10, 한글_아닌_리뷰_수))\n",
        "\n",
        "한글_아닌_리뷰_수, 한글_아닌_리뷰_샘플[['document', 'label']]\n"
      ],
      "metadata": {
        "colab": {
          "base_uri": "https://localhost:8080/"
        },
        "id": "kOSE0ADR0ieF",
        "outputId": "f9d3a221-f478-4710-d76e-cfe28d26babe"
      },
      "execution_count": null,
      "outputs": [
        {
          "output_type": "execute_result",
          "data": {
            "text/plain": [
              "(70382,\n",
              "                                                  document  label\n",
              " 25372                           안되 롭스타크 ㅠㅠㅠ 그의 부인도 ㅠㅠㅠ 에휴      1\n",
              " 146689                                 감독ㅡㅡ 길에서 내하고 만나지마라      0\n",
              " 90689   처음에는 투박해보여서 꺼렸는데. 일딴 보고나니 스트레스 확풀립니다. 작화도 굉장하고...      1\n",
              " 36287                                      가장 좋아하는 영화 (2)      1\n",
              " 110742                  재미없음니다글고 시끄러워요 그리고 인간들 뻣뻣해요 비추천ㅡㅡ      0\n",
              " 48197       와..이런 반전영화는 처음 봐요.ㅋㅋㅋㅋㅋㅋㅋㅋㅋㅋㅋㅋㅋ 일본경찰이었다니...ㅋㅋ      1\n",
              " 88354   뭔가 알듯말듯 마음속 깊게 파고들오는 영화는 리뷰를 좀 읽어보고 두번세번 다시 보면...      1\n",
              " 2863                        재밌네요 ㅎ.ㅎ 주윤발과 조디포스터의 연기에 박수 ㅎ      1\n",
              " 137236  아니...잘 나가다가 완결이 왜 이럽니까?ㄷㄷ 난대없이 현대로 넘어가다니....막판...      0\n",
              " 48504                                       내 생애 최고의 로코~♥      1)"
            ]
          },
          "metadata": {},
          "execution_count": 8
        }
      ]
    },
    {
      "cell_type": "code",
      "source": [
        "# 한글, 공백 및 일반 구두점을 제외한 모든 문자를 공백으로 변환하는 함수\n",
        "def 한글_아닌_문자_제거(text):\n",
        "    # 한글, 공백 및 일반 구두점 외의 문자를 찾아서 공백으로 변환\n",
        "    변환된_텍스트 = re.sub(r\"[^가-힣\\s.,?!~]\", \" \", text)\n",
        "    return 변환된_텍스트\n",
        "\n",
        "# 'document' 열에 함수 적용하여 변환\n",
        "df_ratings_cleaned['document'] = df_ratings_cleaned['document'].apply(한글_아닌_문자_제거)\n",
        "\n",
        "# 변환 후 샘플 리뷰 확인\n",
        "sample_after_conversion = df_ratings_cleaned.sample(10)\n",
        "\n",
        "sample_after_conversion[['document', 'label']]\n"
      ],
      "metadata": {
        "colab": {
          "base_uri": "https://localhost:8080/",
          "height": 363
        },
        "id": "fo1LT7PG2ASO",
        "outputId": "81a4a10b-8055-4e22-b113-697fadfd8026"
      },
      "execution_count": null,
      "outputs": [
        {
          "output_type": "execute_result",
          "data": {
            "text/plain": [
              "                                                 document  label\n",
              "188676                                       널믿엇지만 실망이컷단다      0\n",
              "67255                                말이필요없습니다. 꼭 극장가서 보세요      1\n",
              "122110     별 내용없고 과거에 나온 뱀파이어물과 별 차이가없다.그나마 액션이 볼만했다라는것이지      0\n",
              "139252                                              아니도대체      0\n",
              "1137                                       일말의 순정 잘 보고있어요      1\n",
              "144050                                               재미없음      0\n",
              "109412  아 이제서야 보는데 이건 무슨..영화 아닌줄 알았습니다 저도 빅뱅 좋아하고 그중 승...      0\n",
              "161848    좋은 영화라고만하지 왜좋은지 말못하거나, 영상이 아름답데~즉 내용은 모르겠다는 거죠.      0\n",
              "116467  현시점에서 이런소재가 간간히 필요할때 시점이기는 하다 자기의 정체성을 되돌볼수있는 ...      0\n",
              "153139                                     후..해도해도 너무하네..      0"
            ],
            "text/html": [
              "\n",
              "  <div id=\"df-cb91df8d-c1b2-4a6a-82d1-6a0b1cec22ce\" class=\"colab-df-container\">\n",
              "    <div>\n",
              "<style scoped>\n",
              "    .dataframe tbody tr th:only-of-type {\n",
              "        vertical-align: middle;\n",
              "    }\n",
              "\n",
              "    .dataframe tbody tr th {\n",
              "        vertical-align: top;\n",
              "    }\n",
              "\n",
              "    .dataframe thead th {\n",
              "        text-align: right;\n",
              "    }\n",
              "</style>\n",
              "<table border=\"1\" class=\"dataframe\">\n",
              "  <thead>\n",
              "    <tr style=\"text-align: right;\">\n",
              "      <th></th>\n",
              "      <th>document</th>\n",
              "      <th>label</th>\n",
              "    </tr>\n",
              "  </thead>\n",
              "  <tbody>\n",
              "    <tr>\n",
              "      <th>188676</th>\n",
              "      <td>널믿엇지만 실망이컷단다</td>\n",
              "      <td>0</td>\n",
              "    </tr>\n",
              "    <tr>\n",
              "      <th>67255</th>\n",
              "      <td>말이필요없습니다. 꼭 극장가서 보세요</td>\n",
              "      <td>1</td>\n",
              "    </tr>\n",
              "    <tr>\n",
              "      <th>122110</th>\n",
              "      <td>별 내용없고 과거에 나온 뱀파이어물과 별 차이가없다.그나마 액션이 볼만했다라는것이지</td>\n",
              "      <td>0</td>\n",
              "    </tr>\n",
              "    <tr>\n",
              "      <th>139252</th>\n",
              "      <td>아니도대체</td>\n",
              "      <td>0</td>\n",
              "    </tr>\n",
              "    <tr>\n",
              "      <th>1137</th>\n",
              "      <td>일말의 순정 잘 보고있어요</td>\n",
              "      <td>1</td>\n",
              "    </tr>\n",
              "    <tr>\n",
              "      <th>144050</th>\n",
              "      <td>재미없음</td>\n",
              "      <td>0</td>\n",
              "    </tr>\n",
              "    <tr>\n",
              "      <th>109412</th>\n",
              "      <td>아 이제서야 보는데 이건 무슨..영화 아닌줄 알았습니다 저도 빅뱅 좋아하고 그중 승...</td>\n",
              "      <td>0</td>\n",
              "    </tr>\n",
              "    <tr>\n",
              "      <th>161848</th>\n",
              "      <td>좋은 영화라고만하지 왜좋은지 말못하거나, 영상이 아름답데~즉 내용은 모르겠다는 거죠.</td>\n",
              "      <td>0</td>\n",
              "    </tr>\n",
              "    <tr>\n",
              "      <th>116467</th>\n",
              "      <td>현시점에서 이런소재가 간간히 필요할때 시점이기는 하다 자기의 정체성을 되돌볼수있는 ...</td>\n",
              "      <td>0</td>\n",
              "    </tr>\n",
              "    <tr>\n",
              "      <th>153139</th>\n",
              "      <td>후..해도해도 너무하네..</td>\n",
              "      <td>0</td>\n",
              "    </tr>\n",
              "  </tbody>\n",
              "</table>\n",
              "</div>\n",
              "    <div class=\"colab-df-buttons\">\n",
              "\n",
              "  <div class=\"colab-df-container\">\n",
              "    <button class=\"colab-df-convert\" onclick=\"convertToInteractive('df-cb91df8d-c1b2-4a6a-82d1-6a0b1cec22ce')\"\n",
              "            title=\"Convert this dataframe to an interactive table.\"\n",
              "            style=\"display:none;\">\n",
              "\n",
              "  <svg xmlns=\"http://www.w3.org/2000/svg\" height=\"24px\" viewBox=\"0 -960 960 960\">\n",
              "    <path d=\"M120-120v-720h720v720H120Zm60-500h600v-160H180v160Zm220 220h160v-160H400v160Zm0 220h160v-160H400v160ZM180-400h160v-160H180v160Zm440 0h160v-160H620v160ZM180-180h160v-160H180v160Zm440 0h160v-160H620v160Z\"/>\n",
              "  </svg>\n",
              "    </button>\n",
              "\n",
              "  <style>\n",
              "    .colab-df-container {\n",
              "      display:flex;\n",
              "      gap: 12px;\n",
              "    }\n",
              "\n",
              "    .colab-df-convert {\n",
              "      background-color: #E8F0FE;\n",
              "      border: none;\n",
              "      border-radius: 50%;\n",
              "      cursor: pointer;\n",
              "      display: none;\n",
              "      fill: #1967D2;\n",
              "      height: 32px;\n",
              "      padding: 0 0 0 0;\n",
              "      width: 32px;\n",
              "    }\n",
              "\n",
              "    .colab-df-convert:hover {\n",
              "      background-color: #E2EBFA;\n",
              "      box-shadow: 0px 1px 2px rgba(60, 64, 67, 0.3), 0px 1px 3px 1px rgba(60, 64, 67, 0.15);\n",
              "      fill: #174EA6;\n",
              "    }\n",
              "\n",
              "    .colab-df-buttons div {\n",
              "      margin-bottom: 4px;\n",
              "    }\n",
              "\n",
              "    [theme=dark] .colab-df-convert {\n",
              "      background-color: #3B4455;\n",
              "      fill: #D2E3FC;\n",
              "    }\n",
              "\n",
              "    [theme=dark] .colab-df-convert:hover {\n",
              "      background-color: #434B5C;\n",
              "      box-shadow: 0px 1px 3px 1px rgba(0, 0, 0, 0.15);\n",
              "      filter: drop-shadow(0px 1px 2px rgba(0, 0, 0, 0.3));\n",
              "      fill: #FFFFFF;\n",
              "    }\n",
              "  </style>\n",
              "\n",
              "    <script>\n",
              "      const buttonEl =\n",
              "        document.querySelector('#df-cb91df8d-c1b2-4a6a-82d1-6a0b1cec22ce button.colab-df-convert');\n",
              "      buttonEl.style.display =\n",
              "        google.colab.kernel.accessAllowed ? 'block' : 'none';\n",
              "\n",
              "      async function convertToInteractive(key) {\n",
              "        const element = document.querySelector('#df-cb91df8d-c1b2-4a6a-82d1-6a0b1cec22ce');\n",
              "        const dataTable =\n",
              "          await google.colab.kernel.invokeFunction('convertToInteractive',\n",
              "                                                    [key], {});\n",
              "        if (!dataTable) return;\n",
              "\n",
              "        const docLinkHtml = 'Like what you see? Visit the ' +\n",
              "          '<a target=\"_blank\" href=https://colab.research.google.com/notebooks/data_table.ipynb>data table notebook</a>'\n",
              "          + ' to learn more about interactive tables.';\n",
              "        element.innerHTML = '';\n",
              "        dataTable['output_type'] = 'display_data';\n",
              "        await google.colab.output.renderOutput(dataTable, element);\n",
              "        const docLink = document.createElement('div');\n",
              "        docLink.innerHTML = docLinkHtml;\n",
              "        element.appendChild(docLink);\n",
              "      }\n",
              "    </script>\n",
              "  </div>\n",
              "\n",
              "\n",
              "<div id=\"df-bf932c98-7238-4ef7-a60f-9f30b80c3109\">\n",
              "  <button class=\"colab-df-quickchart\" onclick=\"quickchart('df-bf932c98-7238-4ef7-a60f-9f30b80c3109')\"\n",
              "            title=\"Suggest charts.\"\n",
              "            style=\"display:none;\">\n",
              "\n",
              "<svg xmlns=\"http://www.w3.org/2000/svg\" height=\"24px\"viewBox=\"0 0 24 24\"\n",
              "     width=\"24px\">\n",
              "    <g>\n",
              "        <path d=\"M19 3H5c-1.1 0-2 .9-2 2v14c0 1.1.9 2 2 2h14c1.1 0 2-.9 2-2V5c0-1.1-.9-2-2-2zM9 17H7v-7h2v7zm4 0h-2V7h2v10zm4 0h-2v-4h2v4z\"/>\n",
              "    </g>\n",
              "</svg>\n",
              "  </button>\n",
              "\n",
              "<style>\n",
              "  .colab-df-quickchart {\n",
              "    background-color: #E8F0FE;\n",
              "    border: none;\n",
              "    border-radius: 50%;\n",
              "    cursor: pointer;\n",
              "    display: none;\n",
              "    fill: #1967D2;\n",
              "    height: 32px;\n",
              "    padding: 0 0 0 0;\n",
              "    width: 32px;\n",
              "  }\n",
              "\n",
              "  .colab-df-quickchart:hover {\n",
              "    background-color: #E2EBFA;\n",
              "    box-shadow: 0px 1px 2px rgba(60, 64, 67, 0.3), 0px 1px 3px 1px rgba(60, 64, 67, 0.15);\n",
              "    fill: #174EA6;\n",
              "  }\n",
              "\n",
              "  [theme=dark] .colab-df-quickchart {\n",
              "    background-color: #3B4455;\n",
              "    fill: #D2E3FC;\n",
              "  }\n",
              "\n",
              "  [theme=dark] .colab-df-quickchart:hover {\n",
              "    background-color: #434B5C;\n",
              "    box-shadow: 0px 1px 3px 1px rgba(0, 0, 0, 0.15);\n",
              "    filter: drop-shadow(0px 1px 2px rgba(0, 0, 0, 0.3));\n",
              "    fill: #FFFFFF;\n",
              "  }\n",
              "</style>\n",
              "\n",
              "  <script>\n",
              "    async function quickchart(key) {\n",
              "      const charts = await google.colab.kernel.invokeFunction(\n",
              "          'suggestCharts', [key], {});\n",
              "    }\n",
              "    (() => {\n",
              "      let quickchartButtonEl =\n",
              "        document.querySelector('#df-bf932c98-7238-4ef7-a60f-9f30b80c3109 button');\n",
              "      quickchartButtonEl.style.display =\n",
              "        google.colab.kernel.accessAllowed ? 'block' : 'none';\n",
              "    })();\n",
              "  </script>\n",
              "</div>\n",
              "    </div>\n",
              "  </div>\n"
            ]
          },
          "metadata": {},
          "execution_count": 9
        }
      ]
    },
    {
      "cell_type": "markdown",
      "source": [
        "데이터 분리"
      ],
      "metadata": {
        "id": "xEpcSJlM24yU"
      }
    },
    {
      "cell_type": "code",
      "source": [
        "from sklearn.model_selection import train_test_split\n",
        "\n",
        "# 데이터를 학습 데이터와 테스트 데이터로 분리 (80%: 학습, 20%: 테스트)\n",
        "train_data, test_data = train_test_split(df_ratings_cleaned, test_size=0.2, random_state=42)\n",
        "\n",
        "# 학습 데이터와 테스트 데이터의 크기 확인\n",
        "train_size = train_data.shape[0]\n",
        "test_size = test_data.shape[0]\n",
        "\n",
        "train_size, test_size\n"
      ],
      "metadata": {
        "colab": {
          "base_uri": "https://localhost:8080/"
        },
        "id": "zL9Kn1ke2vYs",
        "outputId": "053f2821-60ab-4b0f-e42b-1235946cf276"
      },
      "execution_count": null,
      "outputs": [
        {
          "output_type": "execute_result",
          "data": {
            "text/plain": [
              "(159993, 39999)"
            ]
          },
          "metadata": {},
          "execution_count": 10
        }
      ]
    },
    {
      "cell_type": "markdown",
      "source": [
        "분석 모델 구축"
      ],
      "metadata": {
        "id": "qeUdqbBr26pb"
      }
    },
    {
      "cell_type": "markdown",
      "source": [
        "TF-IDF (Term Frequency-Inverse Document Frequency)는 문서 내에서 단어의 중요도를 평가하는 데 사용되는 통계적 방법입니다. TF-IDF는 각 단어의 빈도와 전체 문서 집합에서의 그 단어의 등장 빈도의 역수를 곱하여 계산됩니다.\n",
        "\n",
        "TF-IDF 피처를 생성하기 위해 TfidfVectorizer를 사용하겠습니다. 이를 위해 먼저 학습 데이터를 사용하여 TF-IDF 변환기를 학습시키고, 이 변환기를 사용하여 학습 데이터와 테스트 데이터의 피처를 생성하겠습니다."
      ],
      "metadata": {
        "id": "AO-_zq8N3K-e"
      }
    },
    {
      "cell_type": "code",
      "source": [
        "!pip install konlpy"
      ],
      "metadata": {
        "colab": {
          "base_uri": "https://localhost:8080/"
        },
        "id": "D1l33_9H29_A",
        "outputId": "a063e4d5-906f-4411-a60e-4c7f1b299c17"
      },
      "execution_count": null,
      "outputs": [
        {
          "output_type": "stream",
          "name": "stdout",
          "text": [
            "Requirement already satisfied: konlpy in /usr/local/lib/python3.10/dist-packages (0.6.0)\n",
            "Requirement already satisfied: JPype1>=0.7.0 in /usr/local/lib/python3.10/dist-packages (from konlpy) (1.4.1)\n",
            "Requirement already satisfied: lxml>=4.1.0 in /usr/local/lib/python3.10/dist-packages (from konlpy) (4.9.3)\n",
            "Requirement already satisfied: numpy>=1.6 in /usr/local/lib/python3.10/dist-packages (from konlpy) (1.23.5)\n",
            "Requirement already satisfied: packaging in /usr/local/lib/python3.10/dist-packages (from JPype1>=0.7.0->konlpy) (23.1)\n"
          ]
        }
      ]
    },
    {
      "cell_type": "code",
      "source": [
        "from sklearn.feature_extraction.text import TfidfVectorizer\n",
        "\n",
        "# TF-IDF 변환기 초기화\n",
        "tfidf_vectorizer = TfidfVectorizer(max_features=5000)\n",
        "\n",
        "# 학습 데이터를 사용하여 TF-IDF 변환기 학습\n",
        "tfidf_vectorizer.fit(train_data['document'])\n",
        "\n",
        "# 학습 데이터와 테스트 데이터를 TF-IDF 기반 피처로 변환\n",
        "X_train_tfidf = tfidf_vectorizer.transform(train_data['document'])\n",
        "X_test_tfidf = tfidf_vectorizer.transform(test_data['document'])\n",
        "\n",
        "# 변환된 피처의 크기 확인\n",
        "X_train_tfidf.shape, X_test_tfidf.shape"
      ],
      "metadata": {
        "colab": {
          "base_uri": "https://localhost:8080/"
        },
        "id": "ddTEbl5Y2c5O",
        "outputId": "6e1f3afa-e98b-41ab-f9bd-a7390dd17343"
      },
      "execution_count": null,
      "outputs": [
        {
          "output_type": "execute_result",
          "data": {
            "text/plain": [
              "((159993, 5000), (39999, 5000))"
            ]
          },
          "metadata": {},
          "execution_count": 12
        }
      ]
    },
    {
      "cell_type": "markdown",
      "source": [
        "로지스틱 회귀를 사용한 감성 분류:\n",
        "1. 모델 선택:\n",
        "로지스틱 회귀는 이진 분류 문제에 적합한 모델 중 하나입니다. 감성 분류에서는 주로 긍정(1) 또는 부정(0)으로 분류하는 이진 분류 문제이기 때문에 로지스틱 회귀를 사용할 수 있습니다.\n",
        "\n",
        "2. 모델 학습:\n",
        "학습 데이터를 사용하여 로지스틱 회귀 모델을 학습시킵니다. 이때, TF-IDF로 변환된 피처와 대응하는 레이블을 입력으로 제공합니다.\n",
        "\n",
        "3. 모델 평가:\n",
        "테스트 데이터를 사용하여 학습된 모델의 성능을 평가합니다. 정확도, 정밀도, 재현율, F1 점수 등 다양한 지표를 사용할 수 있습니다.\n",
        "\n",
        "4. 예측:\n",
        "학습된 모델을 사용하여 새로운 데이터의 감성을 예측할 수 있습니다."
      ],
      "metadata": {
        "id": "zVNiAH963kRi"
      }
    },
    {
      "cell_type": "code",
      "source": [
        "from sklearn.linear_model import LogisticRegression\n",
        "from sklearn.metrics import accuracy_score, classification_report\n",
        "\n",
        "# 로지스틱 회귀 모델 초기화\n",
        "logreg = LogisticRegression(max_iter=1000, random_state=42)\n",
        "\n",
        "# 모델 학습\n",
        "logreg.fit(X_train_tfidf, train_data['label'])\n",
        "\n",
        "# 테스트 데이터에 대한 예측 수행\n",
        "test_predictions = logreg.predict(X_test_tfidf)\n",
        "\n",
        "# 모델 성능 평가\n",
        "accuracy = accuracy_score(test_data['label'], test_predictions)\n",
        "classification_rep = classification_report(test_data['label'], test_predictions)\n",
        "\n",
        "accuracy, classification_rep"
      ],
      "metadata": {
        "colab": {
          "base_uri": "https://localhost:8080/"
        },
        "id": "fcung4sa3DJR",
        "outputId": "6815cbef-7230-4fa3-abf5-c3a5030a84fc"
      },
      "execution_count": null,
      "outputs": [
        {
          "output_type": "execute_result",
          "data": {
            "text/plain": [
              "(0.7723193079826995,\n",
              " '              precision    recall  f1-score   support\\n\\n           0       0.74      0.84      0.79     20002\\n           1       0.81      0.71      0.76     19997\\n\\n    accuracy                           0.77     39999\\n   macro avg       0.78      0.77      0.77     39999\\nweighted avg       0.78      0.77      0.77     39999\\n')"
            ]
          },
          "metadata": {},
          "execution_count": 13
        }
      ]
    },
    {
      "cell_type": "code",
      "source": [
        "정확도 (Accuracy): 약 77.23%\n",
        "\n",
        "분류 보고서 (Classification Report):\n",
        "\n",
        "정밀도 (Precision):\n",
        "레이블 0 (부정): 0.74\n",
        "레이블 1 (긍정): 0.81\n",
        "재현율 (Recall):\n",
        "레이블 0 (부정): 0.84\n",
        "레이블 1 (긍정): 0.71\n",
        "F1 점수 (F1-Score):\n",
        "레이블 0 (부정): 0.79\n",
        "레이블 1 (긍정): 0.76\n",
        "\n",
        "이 결과를 기반으로 로지스틱 회귀 모델은 이 데이터셋에서 꽤나 효과적으로 감성 분류를 수행하는 것으로 보입니다."
      ],
      "metadata": {
        "colab": {
          "base_uri": "https://localhost:8080/",
          "height": 144
        },
        "id": "OY7ki5UL3n_Q",
        "outputId": "a69078b9-0832-4605-c014-88803240e7b9"
      },
      "execution_count": null,
      "outputs": [
        {
          "output_type": "error",
          "ename": "SyntaxError",
          "evalue": "ignored",
          "traceback": [
            "\u001b[0;36m  File \u001b[0;32m\"<ipython-input-14-cb89fe71ae17>\"\u001b[0;36m, line \u001b[0;32m1\u001b[0m\n\u001b[0;31m    정확도 (Accuracy): 약 77.23%\u001b[0m\n\u001b[0m    ^\u001b[0m\n\u001b[0;31mSyntaxError\u001b[0m\u001b[0;31m:\u001b[0m illegal target for annotation\n"
          ]
        }
      ]
    },
    {
      "cell_type": "code",
      "source": [
        "# 학습 데이터에 대한 예측 수행\n",
        "train_predictions = logreg.predict(X_train_tfidf)\n",
        "\n",
        "# 학습 데이터에 대한 모델 성능 평가\n",
        "train_accuracy = accuracy_score(train_data['label'], train_predictions)\n",
        "train_classification_rep = classification_report(train_data['label'], train_predictions)\n",
        "\n",
        "train_accuracy, train_classification_rep"
      ],
      "metadata": {
        "colab": {
          "base_uri": "https://localhost:8080/"
        },
        "id": "1rpfim0_326P",
        "outputId": "2232d872-7117-4c47-82c8-104d8eaea931"
      },
      "execution_count": null,
      "outputs": [
        {
          "output_type": "execute_result",
          "data": {
            "text/plain": [
              "(0.7897032995193539,\n",
              " '              precision    recall  f1-score   support\\n\\n           0       0.76      0.85      0.80     79994\\n           1       0.83      0.72      0.78     79999\\n\\n    accuracy                           0.79    159993\\n   macro avg       0.79      0.79      0.79    159993\\nweighted avg       0.79      0.79      0.79    159993\\n')"
            ]
          },
          "metadata": {},
          "execution_count": 15
        }
      ]
    },
    {
      "cell_type": "code",
      "source": [
        "정확도 (Accuracy): 약 78.97%\n",
        "\n",
        "분류 보고서 (Classification Report):\n",
        "\n",
        "정밀도 (Precision):\n",
        "레이블 0 (부정): 0.76\n",
        "레이블 1 (긍정): 0.83\n",
        "재현율 (Recall):\n",
        "레이블 0 (부정): 0.85\n",
        "레이블 1 (긍정): 0.72\n",
        "F1 점수 (F1-Score):\n",
        "레이블 0 (부정): 0.80\n",
        "레이블 1 (긍정): 0.78"
      ],
      "metadata": {
        "id": "S7Xy39bv35PO"
      },
      "execution_count": null,
      "outputs": []
    },
    {
      "cell_type": "markdown",
      "source": [
        "모델을 검증 해보자!"
      ],
      "metadata": {
        "id": "ySVmFEWB32d0"
      }
    },
    {
      "cell_type": "code",
      "source": [
        "test = input('감성 분석할 문장입력 >> ')"
      ],
      "metadata": {
        "colab": {
          "base_uri": "https://localhost:8080/"
        },
        "id": "iOUzSPGN4PgR",
        "outputId": "84a6c81b-e0e4-43ac-96b6-007caf13512f"
      },
      "execution_count": null,
      "outputs": [
        {
          "name": "stdout",
          "output_type": "stream",
          "text": [
            "감성 분석할 문장입력 >> \n"
          ]
        }
      ]
    },
    {
      "cell_type": "code",
      "source": [
        "# 입력 텍스트에 대한 전처리 수행\n",
        "test = re.compile(r'[ㄱ-ㅣ가-힣]+').findall(test)\n",
        "print(test)\n",
        "test = [\" \".join(test)]\n",
        "print(test)"
      ],
      "metadata": {
        "colab": {
          "base_uri": "https://localhost:8080/"
        },
        "id": "x_GVRieF5mZE",
        "outputId": "276e63cf-2afd-4228-9a87-b849f04f2aeb"
      },
      "execution_count": null,
      "outputs": [
        {
          "output_type": "stream",
          "name": "stdout",
          "text": [
            "[]\n",
            "['']\n"
          ]
        }
      ]
    },
    {
      "cell_type": "code",
      "source": [
        "# 입력 텍스트의 피처 벡터화\n",
        "test_tfidf = tfidf_vectorizer.transform(test)\n",
        "\n",
        "# 감성분석 모델에 적용하여 감성 분석 평가\n",
        "test_predict = logreg.predict(test_tfidf)"
      ],
      "metadata": {
        "id": "XKAOKX5Q5wQ6"
      },
      "execution_count": null,
      "outputs": []
    },
    {
      "cell_type": "code",
      "source": [
        "# 3) 예측 값 출력하기\n",
        "if(test_predict == 0):\n",
        "    print(test , \"->> 부정 감성\")\n",
        "else :\n",
        "    print(test , \"->> 긍정 감성\")"
      ],
      "metadata": {
        "colab": {
          "base_uri": "https://localhost:8080/"
        },
        "id": "fRdM9IXn54wr",
        "outputId": "27ffa573-b1ef-4bae-a83d-26b43ca6062f"
      },
      "execution_count": null,
      "outputs": [
        {
          "output_type": "stream",
          "name": "stdout",
          "text": [
            "[''] ->> 부정 감성\n"
          ]
        }
      ]
    },
    {
      "cell_type": "markdown",
      "source": [],
      "metadata": {
        "id": "7WQfYU9J6wiN"
      }
    },
    {
      "cell_type": "code",
      "source": [
        "import pandas as pd\n",
        "\n",
        "# CSV 파일을 불러옴\n",
        "data_cp949 = pd.read_csv('/content/코로나_naver_news.csv', encoding='cp949')\n",
        "\n",
        "# 처음 5개의 행을 보여줌\n",
        "data_cp949.head()"
      ],
      "metadata": {
        "colab": {
          "base_uri": "https://localhost:8080/",
          "height": 414
        },
        "id": "OULJVU336T4d",
        "outputId": "d6a91af3-4609-412e-c664-06f53a5825c9"
      },
      "execution_count": null,
      "outputs": [
        {
          "output_type": "execute_result",
          "data": {
            "text/plain": [
              "   Unnamed: 0                               title  \\\n",
              "0           0   결국  증세론  먼저 꺼내든  증세없는  기본소득  불가능    \n",
              "1           1              창녕군   창녕형 비대면 선별진료소 운영   \n",
              "2           2            모바일  메인 홍보 모델로    설현  선정   \n",
              "3           3  김병민  기본소득도 필요하면 논의 테이블에 올려야   인터뷰    \n",
              "4           4             이재갑 장관  고용안정지원금 서울센터 방문   \n",
              "\n",
              "                                         description  title_label  \\\n",
              "0   코로나 발 경제 위기 대응을 위해 돈 쓸 곳은 늘어났지만  국세 수입은 줄어들면서...            0   \n",
              "1    지난  일 창녕군보건소 앞에 설치한 선별진료소에서 검사자가 체온을 측정하고 있다...            0   \n",
              "2  한편   설현 은 최근  코로나  바이러스를 다룬     시리즈   세계적 유행 에...            0   \n",
              "3  변화의 핵심 중에서는 우리 사회가 신종  코로나 바이러스 감염증 코로나 의 위기를 ...            0   \n",
              "4   이재갑 고용노동부 장관은 월 일 수 시에 코로나 긴급 고용안정지원금 서울 센터 서...            0   \n",
              "\n",
              "   description_label  \n",
              "0                  0  \n",
              "1                  0  \n",
              "2                  0  \n",
              "3                  1  \n",
              "4                  0  "
            ],
            "text/html": [
              "\n",
              "  <div id=\"df-ffaeb502-d3cc-42bf-86b6-5db5bfd3ae3d\" class=\"colab-df-container\">\n",
              "    <div>\n",
              "<style scoped>\n",
              "    .dataframe tbody tr th:only-of-type {\n",
              "        vertical-align: middle;\n",
              "    }\n",
              "\n",
              "    .dataframe tbody tr th {\n",
              "        vertical-align: top;\n",
              "    }\n",
              "\n",
              "    .dataframe thead th {\n",
              "        text-align: right;\n",
              "    }\n",
              "</style>\n",
              "<table border=\"1\" class=\"dataframe\">\n",
              "  <thead>\n",
              "    <tr style=\"text-align: right;\">\n",
              "      <th></th>\n",
              "      <th>Unnamed: 0</th>\n",
              "      <th>title</th>\n",
              "      <th>description</th>\n",
              "      <th>title_label</th>\n",
              "      <th>description_label</th>\n",
              "    </tr>\n",
              "  </thead>\n",
              "  <tbody>\n",
              "    <tr>\n",
              "      <th>0</th>\n",
              "      <td>0</td>\n",
              "      <td>결국  증세론  먼저 꺼내든  증세없는  기본소득  불가능</td>\n",
              "      <td>코로나 발 경제 위기 대응을 위해 돈 쓸 곳은 늘어났지만  국세 수입은 줄어들면서...</td>\n",
              "      <td>0</td>\n",
              "      <td>0</td>\n",
              "    </tr>\n",
              "    <tr>\n",
              "      <th>1</th>\n",
              "      <td>1</td>\n",
              "      <td>창녕군   창녕형 비대면 선별진료소 운영</td>\n",
              "      <td>지난  일 창녕군보건소 앞에 설치한 선별진료소에서 검사자가 체온을 측정하고 있다...</td>\n",
              "      <td>0</td>\n",
              "      <td>0</td>\n",
              "    </tr>\n",
              "    <tr>\n",
              "      <th>2</th>\n",
              "      <td>2</td>\n",
              "      <td>모바일  메인 홍보 모델로    설현  선정</td>\n",
              "      <td>한편   설현 은 최근  코로나  바이러스를 다룬     시리즈   세계적 유행 에...</td>\n",
              "      <td>0</td>\n",
              "      <td>0</td>\n",
              "    </tr>\n",
              "    <tr>\n",
              "      <th>3</th>\n",
              "      <td>3</td>\n",
              "      <td>김병민  기본소득도 필요하면 논의 테이블에 올려야   인터뷰</td>\n",
              "      <td>변화의 핵심 중에서는 우리 사회가 신종  코로나 바이러스 감염증 코로나 의 위기를 ...</td>\n",
              "      <td>0</td>\n",
              "      <td>1</td>\n",
              "    </tr>\n",
              "    <tr>\n",
              "      <th>4</th>\n",
              "      <td>4</td>\n",
              "      <td>이재갑 장관  고용안정지원금 서울센터 방문</td>\n",
              "      <td>이재갑 고용노동부 장관은 월 일 수 시에 코로나 긴급 고용안정지원금 서울 센터 서...</td>\n",
              "      <td>0</td>\n",
              "      <td>0</td>\n",
              "    </tr>\n",
              "  </tbody>\n",
              "</table>\n",
              "</div>\n",
              "    <div class=\"colab-df-buttons\">\n",
              "\n",
              "  <div class=\"colab-df-container\">\n",
              "    <button class=\"colab-df-convert\" onclick=\"convertToInteractive('df-ffaeb502-d3cc-42bf-86b6-5db5bfd3ae3d')\"\n",
              "            title=\"Convert this dataframe to an interactive table.\"\n",
              "            style=\"display:none;\">\n",
              "\n",
              "  <svg xmlns=\"http://www.w3.org/2000/svg\" height=\"24px\" viewBox=\"0 -960 960 960\">\n",
              "    <path d=\"M120-120v-720h720v720H120Zm60-500h600v-160H180v160Zm220 220h160v-160H400v160Zm0 220h160v-160H400v160ZM180-400h160v-160H180v160Zm440 0h160v-160H620v160ZM180-180h160v-160H180v160Zm440 0h160v-160H620v160Z\"/>\n",
              "  </svg>\n",
              "    </button>\n",
              "\n",
              "  <style>\n",
              "    .colab-df-container {\n",
              "      display:flex;\n",
              "      gap: 12px;\n",
              "    }\n",
              "\n",
              "    .colab-df-convert {\n",
              "      background-color: #E8F0FE;\n",
              "      border: none;\n",
              "      border-radius: 50%;\n",
              "      cursor: pointer;\n",
              "      display: none;\n",
              "      fill: #1967D2;\n",
              "      height: 32px;\n",
              "      padding: 0 0 0 0;\n",
              "      width: 32px;\n",
              "    }\n",
              "\n",
              "    .colab-df-convert:hover {\n",
              "      background-color: #E2EBFA;\n",
              "      box-shadow: 0px 1px 2px rgba(60, 64, 67, 0.3), 0px 1px 3px 1px rgba(60, 64, 67, 0.15);\n",
              "      fill: #174EA6;\n",
              "    }\n",
              "\n",
              "    .colab-df-buttons div {\n",
              "      margin-bottom: 4px;\n",
              "    }\n",
              "\n",
              "    [theme=dark] .colab-df-convert {\n",
              "      background-color: #3B4455;\n",
              "      fill: #D2E3FC;\n",
              "    }\n",
              "\n",
              "    [theme=dark] .colab-df-convert:hover {\n",
              "      background-color: #434B5C;\n",
              "      box-shadow: 0px 1px 3px 1px rgba(0, 0, 0, 0.15);\n",
              "      filter: drop-shadow(0px 1px 2px rgba(0, 0, 0, 0.3));\n",
              "      fill: #FFFFFF;\n",
              "    }\n",
              "  </style>\n",
              "\n",
              "    <script>\n",
              "      const buttonEl =\n",
              "        document.querySelector('#df-ffaeb502-d3cc-42bf-86b6-5db5bfd3ae3d button.colab-df-convert');\n",
              "      buttonEl.style.display =\n",
              "        google.colab.kernel.accessAllowed ? 'block' : 'none';\n",
              "\n",
              "      async function convertToInteractive(key) {\n",
              "        const element = document.querySelector('#df-ffaeb502-d3cc-42bf-86b6-5db5bfd3ae3d');\n",
              "        const dataTable =\n",
              "          await google.colab.kernel.invokeFunction('convertToInteractive',\n",
              "                                                    [key], {});\n",
              "        if (!dataTable) return;\n",
              "\n",
              "        const docLinkHtml = 'Like what you see? Visit the ' +\n",
              "          '<a target=\"_blank\" href=https://colab.research.google.com/notebooks/data_table.ipynb>data table notebook</a>'\n",
              "          + ' to learn more about interactive tables.';\n",
              "        element.innerHTML = '';\n",
              "        dataTable['output_type'] = 'display_data';\n",
              "        await google.colab.output.renderOutput(dataTable, element);\n",
              "        const docLink = document.createElement('div');\n",
              "        docLink.innerHTML = docLinkHtml;\n",
              "        element.appendChild(docLink);\n",
              "      }\n",
              "    </script>\n",
              "  </div>\n",
              "\n",
              "\n",
              "<div id=\"df-00fab7a7-e440-4ab9-9c71-98f40eb645ae\">\n",
              "  <button class=\"colab-df-quickchart\" onclick=\"quickchart('df-00fab7a7-e440-4ab9-9c71-98f40eb645ae')\"\n",
              "            title=\"Suggest charts.\"\n",
              "            style=\"display:none;\">\n",
              "\n",
              "<svg xmlns=\"http://www.w3.org/2000/svg\" height=\"24px\"viewBox=\"0 0 24 24\"\n",
              "     width=\"24px\">\n",
              "    <g>\n",
              "        <path d=\"M19 3H5c-1.1 0-2 .9-2 2v14c0 1.1.9 2 2 2h14c1.1 0 2-.9 2-2V5c0-1.1-.9-2-2-2zM9 17H7v-7h2v7zm4 0h-2V7h2v10zm4 0h-2v-4h2v4z\"/>\n",
              "    </g>\n",
              "</svg>\n",
              "  </button>\n",
              "\n",
              "<style>\n",
              "  .colab-df-quickchart {\n",
              "    background-color: #E8F0FE;\n",
              "    border: none;\n",
              "    border-radius: 50%;\n",
              "    cursor: pointer;\n",
              "    display: none;\n",
              "    fill: #1967D2;\n",
              "    height: 32px;\n",
              "    padding: 0 0 0 0;\n",
              "    width: 32px;\n",
              "  }\n",
              "\n",
              "  .colab-df-quickchart:hover {\n",
              "    background-color: #E2EBFA;\n",
              "    box-shadow: 0px 1px 2px rgba(60, 64, 67, 0.3), 0px 1px 3px 1px rgba(60, 64, 67, 0.15);\n",
              "    fill: #174EA6;\n",
              "  }\n",
              "\n",
              "  [theme=dark] .colab-df-quickchart {\n",
              "    background-color: #3B4455;\n",
              "    fill: #D2E3FC;\n",
              "  }\n",
              "\n",
              "  [theme=dark] .colab-df-quickchart:hover {\n",
              "    background-color: #434B5C;\n",
              "    box-shadow: 0px 1px 3px 1px rgba(0, 0, 0, 0.15);\n",
              "    filter: drop-shadow(0px 1px 2px rgba(0, 0, 0, 0.3));\n",
              "    fill: #FFFFFF;\n",
              "  }\n",
              "</style>\n",
              "\n",
              "  <script>\n",
              "    async function quickchart(key) {\n",
              "      const charts = await google.colab.kernel.invokeFunction(\n",
              "          'suggestCharts', [key], {});\n",
              "    }\n",
              "    (() => {\n",
              "      let quickchartButtonEl =\n",
              "        document.querySelector('#df-00fab7a7-e440-4ab9-9c71-98f40eb645ae button');\n",
              "      quickchartButtonEl.style.display =\n",
              "        google.colab.kernel.accessAllowed ? 'block' : 'none';\n",
              "    })();\n",
              "  </script>\n",
              "</div>\n",
              "    </div>\n",
              "  </div>\n"
            ]
          },
          "metadata": {},
          "execution_count": 20
        }
      ]
    },
    {
      "cell_type": "code",
      "source": [
        "# 한글 이외의 문자를 공백으로 변경\n",
        "data_cp949['title'] = data_cp949['title'].str.replace('[^가-힣]', ' ')\n",
        "data_cp949['description'] = data_cp949['description'].str.replace('[^가-힣]', ' ')\n",
        "\n",
        "data_cp949.head()\n"
      ],
      "metadata": {
        "colab": {
          "base_uri": "https://localhost:8080/",
          "height": 414
        },
        "id": "LznHqAqg7G5X",
        "outputId": "58957e6b-fc40-45c1-c876-1264ddd849ff"
      },
      "execution_count": null,
      "outputs": [
        {
          "output_type": "execute_result",
          "data": {
            "text/plain": [
              "   Unnamed: 0                               title  \\\n",
              "0           0   결국  증세론  먼저 꺼내든  증세없는  기본소득  불가능    \n",
              "1           1              창녕군   창녕형 비대면 선별진료소 운영   \n",
              "2           2            모바일  메인 홍보 모델로    설현  선정   \n",
              "3           3  김병민  기본소득도 필요하면 논의 테이블에 올려야   인터뷰    \n",
              "4           4             이재갑 장관  고용안정지원금 서울센터 방문   \n",
              "\n",
              "                                         description  title_label  \\\n",
              "0   코로나 발 경제 위기 대응을 위해 돈 쓸 곳은 늘어났지만  국세 수입은 줄어들면서...            0   \n",
              "1    지난  일 창녕군보건소 앞에 설치한 선별진료소에서 검사자가 체온을 측정하고 있다...            0   \n",
              "2  한편   설현 은 최근  코로나  바이러스를 다룬     시리즈   세계적 유행 에...            0   \n",
              "3  변화의 핵심 중에서는 우리 사회가 신종  코로나 바이러스 감염증 코로나 의 위기를 ...            0   \n",
              "4   이재갑 고용노동부 장관은 월 일 수 시에 코로나 긴급 고용안정지원금 서울 센터 서...            0   \n",
              "\n",
              "   description_label  \n",
              "0                  0  \n",
              "1                  0  \n",
              "2                  0  \n",
              "3                  1  \n",
              "4                  0  "
            ],
            "text/html": [
              "\n",
              "  <div id=\"df-9bdc02cc-d6aa-4a0d-8603-d352d59d70c1\" class=\"colab-df-container\">\n",
              "    <div>\n",
              "<style scoped>\n",
              "    .dataframe tbody tr th:only-of-type {\n",
              "        vertical-align: middle;\n",
              "    }\n",
              "\n",
              "    .dataframe tbody tr th {\n",
              "        vertical-align: top;\n",
              "    }\n",
              "\n",
              "    .dataframe thead th {\n",
              "        text-align: right;\n",
              "    }\n",
              "</style>\n",
              "<table border=\"1\" class=\"dataframe\">\n",
              "  <thead>\n",
              "    <tr style=\"text-align: right;\">\n",
              "      <th></th>\n",
              "      <th>Unnamed: 0</th>\n",
              "      <th>title</th>\n",
              "      <th>description</th>\n",
              "      <th>title_label</th>\n",
              "      <th>description_label</th>\n",
              "    </tr>\n",
              "  </thead>\n",
              "  <tbody>\n",
              "    <tr>\n",
              "      <th>0</th>\n",
              "      <td>0</td>\n",
              "      <td>결국  증세론  먼저 꺼내든  증세없는  기본소득  불가능</td>\n",
              "      <td>코로나 발 경제 위기 대응을 위해 돈 쓸 곳은 늘어났지만  국세 수입은 줄어들면서...</td>\n",
              "      <td>0</td>\n",
              "      <td>0</td>\n",
              "    </tr>\n",
              "    <tr>\n",
              "      <th>1</th>\n",
              "      <td>1</td>\n",
              "      <td>창녕군   창녕형 비대면 선별진료소 운영</td>\n",
              "      <td>지난  일 창녕군보건소 앞에 설치한 선별진료소에서 검사자가 체온을 측정하고 있다...</td>\n",
              "      <td>0</td>\n",
              "      <td>0</td>\n",
              "    </tr>\n",
              "    <tr>\n",
              "      <th>2</th>\n",
              "      <td>2</td>\n",
              "      <td>모바일  메인 홍보 모델로    설현  선정</td>\n",
              "      <td>한편   설현 은 최근  코로나  바이러스를 다룬     시리즈   세계적 유행 에...</td>\n",
              "      <td>0</td>\n",
              "      <td>0</td>\n",
              "    </tr>\n",
              "    <tr>\n",
              "      <th>3</th>\n",
              "      <td>3</td>\n",
              "      <td>김병민  기본소득도 필요하면 논의 테이블에 올려야   인터뷰</td>\n",
              "      <td>변화의 핵심 중에서는 우리 사회가 신종  코로나 바이러스 감염증 코로나 의 위기를 ...</td>\n",
              "      <td>0</td>\n",
              "      <td>1</td>\n",
              "    </tr>\n",
              "    <tr>\n",
              "      <th>4</th>\n",
              "      <td>4</td>\n",
              "      <td>이재갑 장관  고용안정지원금 서울센터 방문</td>\n",
              "      <td>이재갑 고용노동부 장관은 월 일 수 시에 코로나 긴급 고용안정지원금 서울 센터 서...</td>\n",
              "      <td>0</td>\n",
              "      <td>0</td>\n",
              "    </tr>\n",
              "  </tbody>\n",
              "</table>\n",
              "</div>\n",
              "    <div class=\"colab-df-buttons\">\n",
              "\n",
              "  <div class=\"colab-df-container\">\n",
              "    <button class=\"colab-df-convert\" onclick=\"convertToInteractive('df-9bdc02cc-d6aa-4a0d-8603-d352d59d70c1')\"\n",
              "            title=\"Convert this dataframe to an interactive table.\"\n",
              "            style=\"display:none;\">\n",
              "\n",
              "  <svg xmlns=\"http://www.w3.org/2000/svg\" height=\"24px\" viewBox=\"0 -960 960 960\">\n",
              "    <path d=\"M120-120v-720h720v720H120Zm60-500h600v-160H180v160Zm220 220h160v-160H400v160Zm0 220h160v-160H400v160ZM180-400h160v-160H180v160Zm440 0h160v-160H620v160ZM180-180h160v-160H180v160Zm440 0h160v-160H620v160Z\"/>\n",
              "  </svg>\n",
              "    </button>\n",
              "\n",
              "  <style>\n",
              "    .colab-df-container {\n",
              "      display:flex;\n",
              "      gap: 12px;\n",
              "    }\n",
              "\n",
              "    .colab-df-convert {\n",
              "      background-color: #E8F0FE;\n",
              "      border: none;\n",
              "      border-radius: 50%;\n",
              "      cursor: pointer;\n",
              "      display: none;\n",
              "      fill: #1967D2;\n",
              "      height: 32px;\n",
              "      padding: 0 0 0 0;\n",
              "      width: 32px;\n",
              "    }\n",
              "\n",
              "    .colab-df-convert:hover {\n",
              "      background-color: #E2EBFA;\n",
              "      box-shadow: 0px 1px 2px rgba(60, 64, 67, 0.3), 0px 1px 3px 1px rgba(60, 64, 67, 0.15);\n",
              "      fill: #174EA6;\n",
              "    }\n",
              "\n",
              "    .colab-df-buttons div {\n",
              "      margin-bottom: 4px;\n",
              "    }\n",
              "\n",
              "    [theme=dark] .colab-df-convert {\n",
              "      background-color: #3B4455;\n",
              "      fill: #D2E3FC;\n",
              "    }\n",
              "\n",
              "    [theme=dark] .colab-df-convert:hover {\n",
              "      background-color: #434B5C;\n",
              "      box-shadow: 0px 1px 3px 1px rgba(0, 0, 0, 0.15);\n",
              "      filter: drop-shadow(0px 1px 2px rgba(0, 0, 0, 0.3));\n",
              "      fill: #FFFFFF;\n",
              "    }\n",
              "  </style>\n",
              "\n",
              "    <script>\n",
              "      const buttonEl =\n",
              "        document.querySelector('#df-9bdc02cc-d6aa-4a0d-8603-d352d59d70c1 button.colab-df-convert');\n",
              "      buttonEl.style.display =\n",
              "        google.colab.kernel.accessAllowed ? 'block' : 'none';\n",
              "\n",
              "      async function convertToInteractive(key) {\n",
              "        const element = document.querySelector('#df-9bdc02cc-d6aa-4a0d-8603-d352d59d70c1');\n",
              "        const dataTable =\n",
              "          await google.colab.kernel.invokeFunction('convertToInteractive',\n",
              "                                                    [key], {});\n",
              "        if (!dataTable) return;\n",
              "\n",
              "        const docLinkHtml = 'Like what you see? Visit the ' +\n",
              "          '<a target=\"_blank\" href=https://colab.research.google.com/notebooks/data_table.ipynb>data table notebook</a>'\n",
              "          + ' to learn more about interactive tables.';\n",
              "        element.innerHTML = '';\n",
              "        dataTable['output_type'] = 'display_data';\n",
              "        await google.colab.output.renderOutput(dataTable, element);\n",
              "        const docLink = document.createElement('div');\n",
              "        docLink.innerHTML = docLinkHtml;\n",
              "        element.appendChild(docLink);\n",
              "      }\n",
              "    </script>\n",
              "  </div>\n",
              "\n",
              "\n",
              "<div id=\"df-adccea8e-25de-4a5d-a67b-1a4b1cb186bc\">\n",
              "  <button class=\"colab-df-quickchart\" onclick=\"quickchart('df-adccea8e-25de-4a5d-a67b-1a4b1cb186bc')\"\n",
              "            title=\"Suggest charts.\"\n",
              "            style=\"display:none;\">\n",
              "\n",
              "<svg xmlns=\"http://www.w3.org/2000/svg\" height=\"24px\"viewBox=\"0 0 24 24\"\n",
              "     width=\"24px\">\n",
              "    <g>\n",
              "        <path d=\"M19 3H5c-1.1 0-2 .9-2 2v14c0 1.1.9 2 2 2h14c1.1 0 2-.9 2-2V5c0-1.1-.9-2-2-2zM9 17H7v-7h2v7zm4 0h-2V7h2v10zm4 0h-2v-4h2v4z\"/>\n",
              "    </g>\n",
              "</svg>\n",
              "  </button>\n",
              "\n",
              "<style>\n",
              "  .colab-df-quickchart {\n",
              "    background-color: #E8F0FE;\n",
              "    border: none;\n",
              "    border-radius: 50%;\n",
              "    cursor: pointer;\n",
              "    display: none;\n",
              "    fill: #1967D2;\n",
              "    height: 32px;\n",
              "    padding: 0 0 0 0;\n",
              "    width: 32px;\n",
              "  }\n",
              "\n",
              "  .colab-df-quickchart:hover {\n",
              "    background-color: #E2EBFA;\n",
              "    box-shadow: 0px 1px 2px rgba(60, 64, 67, 0.3), 0px 1px 3px 1px rgba(60, 64, 67, 0.15);\n",
              "    fill: #174EA6;\n",
              "  }\n",
              "\n",
              "  [theme=dark] .colab-df-quickchart {\n",
              "    background-color: #3B4455;\n",
              "    fill: #D2E3FC;\n",
              "  }\n",
              "\n",
              "  [theme=dark] .colab-df-quickchart:hover {\n",
              "    background-color: #434B5C;\n",
              "    box-shadow: 0px 1px 3px 1px rgba(0, 0, 0, 0.15);\n",
              "    filter: drop-shadow(0px 1px 2px rgba(0, 0, 0, 0.3));\n",
              "    fill: #FFFFFF;\n",
              "  }\n",
              "</style>\n",
              "\n",
              "  <script>\n",
              "    async function quickchart(key) {\n",
              "      const charts = await google.colab.kernel.invokeFunction(\n",
              "          'suggestCharts', [key], {});\n",
              "    }\n",
              "    (() => {\n",
              "      let quickchartButtonEl =\n",
              "        document.querySelector('#df-adccea8e-25de-4a5d-a67b-1a4b1cb186bc button');\n",
              "      quickchartButtonEl.style.display =\n",
              "        google.colab.kernel.accessAllowed ? 'block' : 'none';\n",
              "    })();\n",
              "  </script>\n",
              "</div>\n",
              "    </div>\n",
              "  </div>\n"
            ]
          },
          "metadata": {},
          "execution_count": 21
        }
      ]
    },
    {
      "cell_type": "markdown",
      "source": [
        "감성분석 수행"
      ],
      "metadata": {
        "id": "k-c2JsLm7cMP"
      }
    },
    {
      "cell_type": "code",
      "source": [
        "# 간단한 토큰화 함수 정의\n",
        "def simple_tokenizer(text):\n",
        "    return text.split()\n",
        "\n",
        "# title과 description 토큰화\n",
        "data_cp949['title_tokens'] = data_cp949['title'].apply(simple_tokenizer)\n",
        "data_cp949['description_tokens'] = data_cp949['description'].apply(simple_tokenizer)\n",
        "\n",
        "data_cp949[['title', 'title_tokens', 'description', 'description_tokens']].head()\n"
      ],
      "metadata": {
        "colab": {
          "base_uri": "https://localhost:8080/",
          "height": 414
        },
        "id": "4T-FwefI7Z_7",
        "outputId": "9c7b2b6e-fe77-4c8d-e6e4-0d4fdd9645f2"
      },
      "execution_count": null,
      "outputs": [
        {
          "output_type": "execute_result",
          "data": {
            "text/plain": [
              "                                title                            title_tokens  \\\n",
              "0   결국  증세론  먼저 꺼내든  증세없는  기본소득  불가능      [결국, 증세론, 먼저, 꺼내든, 증세없는, 기본소득, 불가능]   \n",
              "1              창녕군   창녕형 비대면 선별진료소 운영              [창녕군, 창녕형, 비대면, 선별진료소, 운영]   \n",
              "2            모바일  메인 홍보 모델로    설현  선정              [모바일, 메인, 홍보, 모델로, 설현, 선정]   \n",
              "3  김병민  기본소득도 필요하면 논의 테이블에 올려야   인터뷰   [김병민, 기본소득도, 필요하면, 논의, 테이블에, 올려야, 인터뷰]   \n",
              "4             이재갑 장관  고용안정지원금 서울센터 방문            [이재갑, 장관, 고용안정지원금, 서울센터, 방문]   \n",
              "\n",
              "                                         description  \\\n",
              "0   코로나 발 경제 위기 대응을 위해 돈 쓸 곳은 늘어났지만  국세 수입은 줄어들면서...   \n",
              "1    지난  일 창녕군보건소 앞에 설치한 선별진료소에서 검사자가 체온을 측정하고 있다...   \n",
              "2  한편   설현 은 최근  코로나  바이러스를 다룬     시리즈   세계적 유행 에...   \n",
              "3  변화의 핵심 중에서는 우리 사회가 신종  코로나 바이러스 감염증 코로나 의 위기를 ...   \n",
              "4   이재갑 고용노동부 장관은 월 일 수 시에 코로나 긴급 고용안정지원금 서울 센터 서...   \n",
              "\n",
              "                                  description_tokens  \n",
              "0  [코로나, 발, 경제, 위기, 대응을, 위해, 돈, 쓸, 곳은, 늘어났지만, 국세,...  \n",
              "1  [지난, 일, 창녕군보건소, 앞에, 설치한, 선별진료소에서, 검사자가, 체온을, 측...  \n",
              "2  [한편, 설현, 은, 최근, 코로나, 바이러스를, 다룬, 시리즈, 세계적, 유행, ...  \n",
              "3  [변화의, 핵심, 중에서는, 우리, 사회가, 신종, 코로나, 바이러스, 감염증, 코...  \n",
              "4  [이재갑, 고용노동부, 장관은, 월, 일, 수, 시에, 코로나, 긴급, 고용안정지원...  "
            ],
            "text/html": [
              "\n",
              "  <div id=\"df-9a5593b3-ff81-439c-b699-40915d67b081\" class=\"colab-df-container\">\n",
              "    <div>\n",
              "<style scoped>\n",
              "    .dataframe tbody tr th:only-of-type {\n",
              "        vertical-align: middle;\n",
              "    }\n",
              "\n",
              "    .dataframe tbody tr th {\n",
              "        vertical-align: top;\n",
              "    }\n",
              "\n",
              "    .dataframe thead th {\n",
              "        text-align: right;\n",
              "    }\n",
              "</style>\n",
              "<table border=\"1\" class=\"dataframe\">\n",
              "  <thead>\n",
              "    <tr style=\"text-align: right;\">\n",
              "      <th></th>\n",
              "      <th>title</th>\n",
              "      <th>title_tokens</th>\n",
              "      <th>description</th>\n",
              "      <th>description_tokens</th>\n",
              "    </tr>\n",
              "  </thead>\n",
              "  <tbody>\n",
              "    <tr>\n",
              "      <th>0</th>\n",
              "      <td>결국  증세론  먼저 꺼내든  증세없는  기본소득  불가능</td>\n",
              "      <td>[결국, 증세론, 먼저, 꺼내든, 증세없는, 기본소득, 불가능]</td>\n",
              "      <td>코로나 발 경제 위기 대응을 위해 돈 쓸 곳은 늘어났지만  국세 수입은 줄어들면서...</td>\n",
              "      <td>[코로나, 발, 경제, 위기, 대응을, 위해, 돈, 쓸, 곳은, 늘어났지만, 국세,...</td>\n",
              "    </tr>\n",
              "    <tr>\n",
              "      <th>1</th>\n",
              "      <td>창녕군   창녕형 비대면 선별진료소 운영</td>\n",
              "      <td>[창녕군, 창녕형, 비대면, 선별진료소, 운영]</td>\n",
              "      <td>지난  일 창녕군보건소 앞에 설치한 선별진료소에서 검사자가 체온을 측정하고 있다...</td>\n",
              "      <td>[지난, 일, 창녕군보건소, 앞에, 설치한, 선별진료소에서, 검사자가, 체온을, 측...</td>\n",
              "    </tr>\n",
              "    <tr>\n",
              "      <th>2</th>\n",
              "      <td>모바일  메인 홍보 모델로    설현  선정</td>\n",
              "      <td>[모바일, 메인, 홍보, 모델로, 설현, 선정]</td>\n",
              "      <td>한편   설현 은 최근  코로나  바이러스를 다룬     시리즈   세계적 유행 에...</td>\n",
              "      <td>[한편, 설현, 은, 최근, 코로나, 바이러스를, 다룬, 시리즈, 세계적, 유행, ...</td>\n",
              "    </tr>\n",
              "    <tr>\n",
              "      <th>3</th>\n",
              "      <td>김병민  기본소득도 필요하면 논의 테이블에 올려야   인터뷰</td>\n",
              "      <td>[김병민, 기본소득도, 필요하면, 논의, 테이블에, 올려야, 인터뷰]</td>\n",
              "      <td>변화의 핵심 중에서는 우리 사회가 신종  코로나 바이러스 감염증 코로나 의 위기를 ...</td>\n",
              "      <td>[변화의, 핵심, 중에서는, 우리, 사회가, 신종, 코로나, 바이러스, 감염증, 코...</td>\n",
              "    </tr>\n",
              "    <tr>\n",
              "      <th>4</th>\n",
              "      <td>이재갑 장관  고용안정지원금 서울센터 방문</td>\n",
              "      <td>[이재갑, 장관, 고용안정지원금, 서울센터, 방문]</td>\n",
              "      <td>이재갑 고용노동부 장관은 월 일 수 시에 코로나 긴급 고용안정지원금 서울 센터 서...</td>\n",
              "      <td>[이재갑, 고용노동부, 장관은, 월, 일, 수, 시에, 코로나, 긴급, 고용안정지원...</td>\n",
              "    </tr>\n",
              "  </tbody>\n",
              "</table>\n",
              "</div>\n",
              "    <div class=\"colab-df-buttons\">\n",
              "\n",
              "  <div class=\"colab-df-container\">\n",
              "    <button class=\"colab-df-convert\" onclick=\"convertToInteractive('df-9a5593b3-ff81-439c-b699-40915d67b081')\"\n",
              "            title=\"Convert this dataframe to an interactive table.\"\n",
              "            style=\"display:none;\">\n",
              "\n",
              "  <svg xmlns=\"http://www.w3.org/2000/svg\" height=\"24px\" viewBox=\"0 -960 960 960\">\n",
              "    <path d=\"M120-120v-720h720v720H120Zm60-500h600v-160H180v160Zm220 220h160v-160H400v160Zm0 220h160v-160H400v160ZM180-400h160v-160H180v160Zm440 0h160v-160H620v160ZM180-180h160v-160H180v160Zm440 0h160v-160H620v160Z\"/>\n",
              "  </svg>\n",
              "    </button>\n",
              "\n",
              "  <style>\n",
              "    .colab-df-container {\n",
              "      display:flex;\n",
              "      gap: 12px;\n",
              "    }\n",
              "\n",
              "    .colab-df-convert {\n",
              "      background-color: #E8F0FE;\n",
              "      border: none;\n",
              "      border-radius: 50%;\n",
              "      cursor: pointer;\n",
              "      display: none;\n",
              "      fill: #1967D2;\n",
              "      height: 32px;\n",
              "      padding: 0 0 0 0;\n",
              "      width: 32px;\n",
              "    }\n",
              "\n",
              "    .colab-df-convert:hover {\n",
              "      background-color: #E2EBFA;\n",
              "      box-shadow: 0px 1px 2px rgba(60, 64, 67, 0.3), 0px 1px 3px 1px rgba(60, 64, 67, 0.15);\n",
              "      fill: #174EA6;\n",
              "    }\n",
              "\n",
              "    .colab-df-buttons div {\n",
              "      margin-bottom: 4px;\n",
              "    }\n",
              "\n",
              "    [theme=dark] .colab-df-convert {\n",
              "      background-color: #3B4455;\n",
              "      fill: #D2E3FC;\n",
              "    }\n",
              "\n",
              "    [theme=dark] .colab-df-convert:hover {\n",
              "      background-color: #434B5C;\n",
              "      box-shadow: 0px 1px 3px 1px rgba(0, 0, 0, 0.15);\n",
              "      filter: drop-shadow(0px 1px 2px rgba(0, 0, 0, 0.3));\n",
              "      fill: #FFFFFF;\n",
              "    }\n",
              "  </style>\n",
              "\n",
              "    <script>\n",
              "      const buttonEl =\n",
              "        document.querySelector('#df-9a5593b3-ff81-439c-b699-40915d67b081 button.colab-df-convert');\n",
              "      buttonEl.style.display =\n",
              "        google.colab.kernel.accessAllowed ? 'block' : 'none';\n",
              "\n",
              "      async function convertToInteractive(key) {\n",
              "        const element = document.querySelector('#df-9a5593b3-ff81-439c-b699-40915d67b081');\n",
              "        const dataTable =\n",
              "          await google.colab.kernel.invokeFunction('convertToInteractive',\n",
              "                                                    [key], {});\n",
              "        if (!dataTable) return;\n",
              "\n",
              "        const docLinkHtml = 'Like what you see? Visit the ' +\n",
              "          '<a target=\"_blank\" href=https://colab.research.google.com/notebooks/data_table.ipynb>data table notebook</a>'\n",
              "          + ' to learn more about interactive tables.';\n",
              "        element.innerHTML = '';\n",
              "        dataTable['output_type'] = 'display_data';\n",
              "        await google.colab.output.renderOutput(dataTable, element);\n",
              "        const docLink = document.createElement('div');\n",
              "        docLink.innerHTML = docLinkHtml;\n",
              "        element.appendChild(docLink);\n",
              "      }\n",
              "    </script>\n",
              "  </div>\n",
              "\n",
              "\n",
              "<div id=\"df-f3bf14ef-dd2f-4565-81f1-8eacb9ba449a\">\n",
              "  <button class=\"colab-df-quickchart\" onclick=\"quickchart('df-f3bf14ef-dd2f-4565-81f1-8eacb9ba449a')\"\n",
              "            title=\"Suggest charts.\"\n",
              "            style=\"display:none;\">\n",
              "\n",
              "<svg xmlns=\"http://www.w3.org/2000/svg\" height=\"24px\"viewBox=\"0 0 24 24\"\n",
              "     width=\"24px\">\n",
              "    <g>\n",
              "        <path d=\"M19 3H5c-1.1 0-2 .9-2 2v14c0 1.1.9 2 2 2h14c1.1 0 2-.9 2-2V5c0-1.1-.9-2-2-2zM9 17H7v-7h2v7zm4 0h-2V7h2v10zm4 0h-2v-4h2v4z\"/>\n",
              "    </g>\n",
              "</svg>\n",
              "  </button>\n",
              "\n",
              "<style>\n",
              "  .colab-df-quickchart {\n",
              "    background-color: #E8F0FE;\n",
              "    border: none;\n",
              "    border-radius: 50%;\n",
              "    cursor: pointer;\n",
              "    display: none;\n",
              "    fill: #1967D2;\n",
              "    height: 32px;\n",
              "    padding: 0 0 0 0;\n",
              "    width: 32px;\n",
              "  }\n",
              "\n",
              "  .colab-df-quickchart:hover {\n",
              "    background-color: #E2EBFA;\n",
              "    box-shadow: 0px 1px 2px rgba(60, 64, 67, 0.3), 0px 1px 3px 1px rgba(60, 64, 67, 0.15);\n",
              "    fill: #174EA6;\n",
              "  }\n",
              "\n",
              "  [theme=dark] .colab-df-quickchart {\n",
              "    background-color: #3B4455;\n",
              "    fill: #D2E3FC;\n",
              "  }\n",
              "\n",
              "  [theme=dark] .colab-df-quickchart:hover {\n",
              "    background-color: #434B5C;\n",
              "    box-shadow: 0px 1px 3px 1px rgba(0, 0, 0, 0.15);\n",
              "    filter: drop-shadow(0px 1px 2px rgba(0, 0, 0, 0.3));\n",
              "    fill: #FFFFFF;\n",
              "  }\n",
              "</style>\n",
              "\n",
              "  <script>\n",
              "    async function quickchart(key) {\n",
              "      const charts = await google.colab.kernel.invokeFunction(\n",
              "          'suggestCharts', [key], {});\n",
              "    }\n",
              "    (() => {\n",
              "      let quickchartButtonEl =\n",
              "        document.querySelector('#df-f3bf14ef-dd2f-4565-81f1-8eacb9ba449a button');\n",
              "      quickchartButtonEl.style.display =\n",
              "        google.colab.kernel.accessAllowed ? 'block' : 'none';\n",
              "    })();\n",
              "  </script>\n",
              "</div>\n",
              "    </div>\n",
              "  </div>\n"
            ]
          },
          "metadata": {},
          "execution_count": 22
        }
      ]
    },
    {
      "cell_type": "code",
      "source": [
        "from sklearn.feature_extraction.text import TfidfVectorizer\n",
        "\n",
        "# TF-IDF 벡터화\n",
        "tfidf_vectorizer = TfidfVectorizer(max_features=5000, max_df=0.95, min_df=2)\n",
        "\n",
        "# title과 description에 대한 TF-IDF 피처 추출\n",
        "title_tfidf = tfidf_vectorizer.fit_transform(data_cp949['title'])\n",
        "description_tfidf = tfidf_vectorizer.fit_transform(data_cp949['description'])\n",
        "\n",
        "title_tfidf.shape, description_tfidf.shape\n"
      ],
      "metadata": {
        "colab": {
          "base_uri": "https://localhost:8080/"
        },
        "id": "Qp-X4BZf74nh",
        "outputId": "3c63eb17-8567-492c-b1aa-c853e7cdc4d8"
      },
      "execution_count": null,
      "outputs": [
        {
          "output_type": "execute_result",
          "data": {
            "text/plain": [
              "((800, 896), (800, 2667))"
            ]
          },
          "metadata": {},
          "execution_count": 23
        }
      ]
    },
    {
      "cell_type": "code",
      "source": [
        "from sklearn.model_selection import train_test_split\n",
        "from sklearn.linear_model import LogisticRegression\n",
        "from sklearn.metrics import accuracy_score, classification_report\n",
        "\n",
        "# title에 대한 훈련 세트와 테스트 세트 분리\n",
        "X_train_title, X_test_title, y_train_title, y_test_title = train_test_split(\n",
        "    title_tfidf, data_cp949['title_label'], test_size=0.2, random_state=42)\n",
        "\n",
        "# 로지스틱 회귀 모델 학습\n",
        "logreg_title = LogisticRegression(max_iter=1000)\n",
        "logreg_title.fit(X_train_title, y_train_title)\n",
        "\n",
        "# 테스트 세트에서의 예측\n",
        "y_pred_title = logreg_title.predict(X_test_title)\n",
        "\n",
        "# 정확도 및 분류 보고서 출력\n",
        "accuracy_title = accuracy_score(y_test_title, y_pred_title)\n",
        "report_title = classification_report(y_test_title, y_pred_title)\n",
        "\n",
        "accuracy_title, report_title\n"
      ],
      "metadata": {
        "colab": {
          "base_uri": "https://localhost:8080/"
        },
        "id": "GdT5ljTk78ey",
        "outputId": "cab03a70-ea2a-4db9-fa5d-7d02321244aa"
      },
      "execution_count": null,
      "outputs": [
        {
          "output_type": "execute_result",
          "data": {
            "text/plain": [
              "(0.7,\n",
              " '              precision    recall  f1-score   support\\n\\n           0       0.69      0.95      0.80       102\\n           1       0.75      0.26      0.38        58\\n\\n    accuracy                           0.70       160\\n   macro avg       0.72      0.60      0.59       160\\nweighted avg       0.71      0.70      0.65       160\\n')"
            ]
          },
          "metadata": {},
          "execution_count": 24
        }
      ]
    },
    {
      "cell_type": "code",
      "source": [
        "정확도 (Accuracy): 70%\n",
        "분류 보고서:\n",
        "0 라벨 (부정적):\n",
        "정밀도 (Precision): 0.69\n",
        "재현율 (Recall): 0.95\n",
        "F1-점수 (F1-score): 0.80\n",
        "1 라벨 (긍정적):\n",
        "정밀도 (Precision): 0.75\n",
        "재현율 (Recall): 0.26\n",
        "F1-점수 (F1-score): 0.38"
      ],
      "metadata": {
        "id": "vclFZRdl8ABk"
      },
      "execution_count": null,
      "outputs": []
    },
    {
      "cell_type": "code",
      "source": [
        "# description에 대한 훈련 세트와 테스트 세트 분리\n",
        "X_train_desc, X_test_desc, y_train_desc, y_test_desc = train_test_split(\n",
        "    description_tfidf, data_cp949['description_label'], test_size=0.2, random_state=42)\n",
        "\n",
        "# 로지스틱 회귀 모델 학습\n",
        "logreg_desc = LogisticRegression(max_iter=1000)\n",
        "logreg_desc.fit(X_train_desc, y_train_desc)\n",
        "\n",
        "# 테스트 세트에서의 예측\n",
        "y_pred_desc = logreg_desc.predict(X_test_desc)\n",
        "\n",
        "# 정확도 및 분류 보고서 출력\n",
        "accuracy_desc = accuracy_score(y_test_desc, y_pred_desc)\n",
        "report_desc = classification_report(y_test_desc, y_pred_desc)\n",
        "\n",
        "accuracy_desc, report_desc\n"
      ],
      "metadata": {
        "colab": {
          "base_uri": "https://localhost:8080/"
        },
        "id": "qEUnjGhj8H0o",
        "outputId": "feea1d1b-df32-4da6-c1cc-f3cc73f18d07"
      },
      "execution_count": null,
      "outputs": [
        {
          "output_type": "execute_result",
          "data": {
            "text/plain": [
              "(0.73125,\n",
              " '              precision    recall  f1-score   support\\n\\n           0       0.70      0.87      0.77        85\\n           1       0.80      0.57      0.67        75\\n\\n    accuracy                           0.73       160\\n   macro avg       0.75      0.72      0.72       160\\nweighted avg       0.74      0.73      0.72       160\\n')"
            ]
          },
          "metadata": {},
          "execution_count": 25
        }
      ]
    },
    {
      "cell_type": "code",
      "source": [
        "정확도 (Accuracy): 73.1%\n",
        "분류 보고서:\n",
        "0 라벨 (부정적):\n",
        "정밀도 (Precision): 0.70\n",
        "재현율 (Recall): 0.87\n",
        "F1-점수 (F1-score): 0.77\n",
        "1 라벨 (긍정적):\n",
        "정밀도 (Precision): 0.80\n",
        "재현율 (Recall): 0.57\n",
        "F1-점수 (F1-score): 0.67"
      ],
      "metadata": {
        "id": "HohWx6FX8IEX"
      },
      "execution_count": null,
      "outputs": []
    },
    {
      "cell_type": "code",
      "source": [
        "# 그러면 합쳐서 한번 해보자!"
      ],
      "metadata": {
        "id": "lqCWGpKZ8POB"
      },
      "execution_count": null,
      "outputs": []
    },
    {
      "cell_type": "code",
      "source": [
        "# title과 description을 합치기\n",
        "data_cp949['combined'] = data_cp949['title'] + \" \" + data_cp949['description']\n",
        "\n",
        "# 합쳐진 텍스트에 대한 TF-IDF 피처 추출\n",
        "combined_tfidf = tfidf_vectorizer.fit_transform(data_cp949['combined'])\n",
        "\n",
        "# 훈련 세트와 테스트 세트 분리 (title_label로 감성 분석을 진행하겠습니다.)\n",
        "X_train_combined, X_test_combined, y_train_combined, y_test_combined = train_test_split(\n",
        "    combined_tfidf, data_cp949['title_label'], test_size=0.2, random_state=42)\n",
        "\n",
        "# 로지스틱 회귀 모델 학습\n",
        "logreg_combined = LogisticRegression(max_iter=1000)\n",
        "logreg_combined.fit(X_train_combined, y_train_combined)\n",
        "\n",
        "# 테스트 세트에서의 예측\n",
        "y_pred_combined = logreg_combined.predict(X_test_combined)\n",
        "\n",
        "# 정확도 및 분류 보고서 출력\n",
        "accuracy_combined = accuracy_score(y_test_combined, y_pred_combined)\n",
        "report_combined = classification_report(y_test_combined, y_pred_combined)\n",
        "\n",
        "accuracy_combined, report_combined\n"
      ],
      "metadata": {
        "colab": {
          "base_uri": "https://localhost:8080/"
        },
        "id": "LuPr2Bam8Tsx",
        "outputId": "d51b4730-6bd9-401c-8c1f-7900704186d1"
      },
      "execution_count": null,
      "outputs": [
        {
          "output_type": "execute_result",
          "data": {
            "text/plain": [
              "(0.6625,\n",
              " '              precision    recall  f1-score   support\\n\\n           0       0.66      0.96      0.78       102\\n           1       0.67      0.14      0.23        58\\n\\n    accuracy                           0.66       160\\n   macro avg       0.66      0.55      0.51       160\\nweighted avg       0.66      0.66      0.58       160\\n')"
            ]
          },
          "metadata": {},
          "execution_count": 26
        }
      ]
    },
    {
      "cell_type": "code",
      "source": [
        "정확도 (Accuracy): 66.25%\n",
        "분류 보고서:\n",
        "0 라벨 (부정적):\n",
        "정밀도 (Precision): 0.66\n",
        "재현율 (Recall): 0.96\n",
        "F1-점수 (F1-score): 0.78\n",
        "1 라벨 (긍정적):\n",
        "정밀도 (Precision): 0.67\n",
        "재현율 (Recall): 0.14\n",
        "F1-점수 (F1-score): 0.23\n"
      ],
      "metadata": {
        "id": "HEF4L_Zk8WXm"
      },
      "execution_count": null,
      "outputs": []
    },
    {
      "cell_type": "code",
      "source": [
        "import numpy as np\n",
        "\n",
        "# 긍정, 부정 라벨 별로 데이터 분리\n",
        "positive_texts = data_cp949[data_cp949['title_label'] == 1]['combined']\n",
        "negative_texts = data_cp949[data_cp949['title_label'] == 0]['combined']\n",
        "\n",
        "# TF-IDF 벡터화\n",
        "tfidf_vectorizer_positive = TfidfVectorizer(max_features=5000, max_df=0.95, min_df=2)\n",
        "tfidf_positive = tfidf_vectorizer_positive.fit_transform(positive_texts)\n",
        "\n",
        "tfidf_vectorizer_negative = TfidfVectorizer(max_features=5000, max_df=0.95, min_df=2)\n",
        "tfidf_negative = tfidf_vectorizer_negative.fit_transform(negative_texts)\n",
        "\n",
        "# 각 라벨별 TF-IDF 평균 값 계산\n",
        "positive_mean = np.mean(tfidf_positive, axis=0)\n",
        "negative_mean = np.mean(tfidf_negative, axis=0)\n",
        "\n",
        "# 상위 20개 단어 인덱스 추출\n",
        "positive_top_indices = positive_mean.argsort()[0, -20:][::-1]\n",
        "negative_top_indices = negative_mean.argsort()[0, -20:][::-1]\n",
        "\n",
        "# 상위 20개 단어와 그 TF-IDF 값 추출\n",
        "positive_top_words = [(feature, positive_mean[0, idx]) for idx, feature in zip(positive_top_indices, np.array(tfidf_vectorizer_positive.get_feature_names_out())[positive_top_indices])]\n",
        "negative_top_words = [(feature, negative_mean[0, idx]) for idx, feature in zip(negative_top_indices, np.array(tfidf_vectorizer_negative.get_feature_names_out())[negative_top_indices])]\n",
        "\n",
        "positive_top_words, negative_top_words\n"
      ],
      "metadata": {
        "colab": {
          "base_uri": "https://localhost:8080/"
        },
        "id": "E7zUfPX78cFE",
        "outputId": "70e6bb53-4b61-48a6-a7e7-c916ad1038ee"
      },
      "execution_count": null,
      "outputs": [
        {
          "output_type": "execute_result",
          "data": {
            "text/plain": [
              "([(array(['국내', '통해', '여파로', '인해', '포스트', '개최', '최근', '함께', '인한', '서울', '지난',\n",
              "          '이번', '온라인', '위한', '있는', '있다', '감염증', '바이러스', '위해', '신종'],\n",
              "         dtype=object),\n",
              "   matrix([[0.01197727, 0.01223763, 0.01263123, 0.01313764, 0.0132612 ,\n",
              "            0.01346231, 0.01409148, 0.01457553, 0.0145945 , 0.01520979,\n",
              "            0.01606293, 0.01711599, 0.01755417, 0.01814705, 0.02097718,\n",
              "            0.02540562, 0.03054056, 0.03116319, 0.03147073, 0.03198757]]))],\n",
              " [(array(['지원', '여파로', '대종상영화제', '비대면', '이후', '통해', '최근', '어려움을', '특히', '지난',\n",
              "          '이번', '포스트', '인해', '위한', '있는', '감염증', '있다', '신종', '바이러스', '위해'],\n",
              "         dtype=object),\n",
              "   matrix([[0.01100508, 0.01133446, 0.01168122, 0.01181736, 0.01193304,\n",
              "            0.01211358, 0.01244963, 0.01247828, 0.01277733, 0.01360048,\n",
              "            0.01563538, 0.01593976, 0.01615291, 0.01737838, 0.01979803,\n",
              "            0.02274891, 0.02435192, 0.02489393, 0.02497688, 0.02585417]]))])"
            ]
          },
          "metadata": {},
          "execution_count": 27
        }
      ]
    },
    {
      "cell_type": "code",
      "source": [
        "import matplotlib.pyplot as plt\n",
        "# 데이터 추출\n",
        "positive_words_data = positive_top_words[0][0]\n",
        "positive_values_data = positive_top_words[0][1].tolist()[0]\n",
        "negative_words_data = negative_top_words[0][0]\n",
        "negative_values_data = negative_top_words[0][1].tolist()[0]\n",
        "\n",
        "# 긍정적인 뉴스의 상위 20개 단어 그래프 그리기\n",
        "plt.figure(figsize=(15, 6))\n",
        "plt.bar(positive_words_data, positive_values_data, color='blue')\n",
        "plt.xticks(rotation=45)\n",
        "plt.title(\"Top 20 words in Positive News\")\n",
        "plt.ylabel(\"TF-IDF value\")\n",
        "plt.show()\n",
        "\n",
        "# 부정적인 뉴스의 상위 20개 단어 그래프 그리기\n",
        "plt.figure(figsize=(15, 6))\n",
        "plt.bar(negative_words_data, negative_values_data, color='red')\n",
        "plt.xticks(rotation=45)\n",
        "plt.title(\"Top 20 words in Negative News\")\n",
        "plt.ylabel(\"TF-IDF value\")\n",
        "plt.show()\n"
      ],
      "metadata": {
        "colab": {
          "base_uri": "https://localhost:8080/",
          "height": 651
        },
        "id": "sfgTEsF79wCG",
        "outputId": "796aeb6e-dedb-4288-8194-a54a23450a9e"
      },
      "execution_count": null,
      "outputs": [
        {
          "output_type": "display_data",
          "data": {
            "text/plain": [
              "<Figure size 1500x600 with 1 Axes>"
            ],
            "image/png": "[encoded data removed]"
          },
          "metadata": {}
        },
        {
          "output_type": "display_data",
          "data": {
            "text/plain": [
              "<Figure size 1500x600 with 1 Axes>"
            ],
            "image/png": "[encoded data removed]"
          },
          "metadata": {}
        }
      ]
    },
    {
      "cell_type": "code",
      "source": [
        "# 비슷한 그룹의 뉴스 그룹핑"
      ],
      "metadata": {
        "id": "M4O79naP--Z0"
      },
      "execution_count": null,
      "outputs": []
    },
    {
      "cell_type": "code",
      "source": [
        "from sklearn.cluster import KMeans\n",
        "\n",
        "# 전체 뉴스 텍스트에 대해 TF-IDF 벡터화\n",
        "tfidf_vectorizer_all = TfidfVectorizer(max_features=5000, max_df=0.95, min_df=2)\n",
        "tfidf_all = tfidf_vectorizer_all.fit_transform(data_cp949['combined'])\n",
        "\n",
        "# K-means 클러스터링\n",
        "num_clusters = 5\n",
        "kmeans = KMeans(n_clusters=num_clusters, random_state=42)\n",
        "clusters = kmeans.fit_predict(tfidf_all)\n",
        "\n",
        "# 각 클러스터별 대표적인 단어들을 확인\n",
        "cluster_top_words = {}\n",
        "for i in range(num_clusters):\n",
        "    cluster_center = kmeans.cluster_centers_[i]\n",
        "    top_indices = cluster_center.argsort()[-10:][::-1]\n",
        "    top_words = np.array(tfidf_vectorizer_all.get_feature_names_out())[top_indices]\n",
        "    cluster_top_words[i] = top_words\n",
        "\n",
        "cluster_top_words\n"
      ],
      "metadata": {
        "colab": {
          "base_uri": "https://localhost:8080/"
        },
        "id": "GXaqdr-c-SFT",
        "outputId": "275a48fe-c3f2-4b71-f355-3cfb48445736"
      },
      "execution_count": null,
      "outputs": [
        {
          "output_type": "execute_result",
          "data": {
            "text/plain": [
              "{0: array(['위해', '대종상영화제', '이번', '위한', '인해', '온라인', '통해', '참석한', '마스크', '최근'],\n",
              "       dtype=object),\n",
              " 1: array(['신종', '바이러스', '감염증', '있다', '확진', '확진자', '따르면', '지난', '리치웨이', '판정을'],\n",
              "       dtype=object),\n",
              " 2: array(['오후', '서울', '서울의료원', '수고해', '중랑구', '잠시멈춤', '서울의료원에서', '진료를', '콘서트',\n",
              "        '위해'], dtype=object),\n",
              " 3: array(['포스트', '디지털', '클라우드', '시대', '데이터', '언택트', '새로운', '글로벌', '비대면',\n",
              "        '시대에'], dtype=object),\n",
              " 4: array(['있는', '어려움을', '겪고', '장기화로', '위해', '지원', '이번', '인해', '지역', '겪는'],\n",
              "       dtype=object)}"
            ]
          },
          "metadata": {},
          "execution_count": 31
        }
      ]
    },
    {
      "cell_type": "code",
      "source": [
        "# 비슷한 키워드 뉴스 추천"
      ],
      "metadata": {
        "id": "CEfzOBG6-_39"
      },
      "execution_count": null,
      "outputs": []
    },
    {
      "cell_type": "code",
      "source": [
        "from sklearn.metrics.pairwise import cosine_similarity\n",
        "\n",
        "# \"확진자\" 키워드의 TF-IDF 벡터 생성\n",
        "keyword_vector = tfidf_vectorizer_all.transform([\"확진자\"])\n",
        "\n",
        "# 유사도 계산\n",
        "similarities = cosine_similarity(keyword_vector, tfidf_all)\n",
        "\n",
        "# 가장 유사한 뉴스 기사 5개의 인덱스 추출\n",
        "top_indices = similarities.argsort()[0, -5:][::-1]\n",
        "\n",
        "# 추천된 뉴스 기사 출력\n",
        "recommended_news = data_cp949.iloc[top_indices]\n",
        "recommended_news[['title', 'description']]\n"
      ],
      "metadata": {
        "colab": {
          "base_uri": "https://localhost:8080/",
          "height": 293
        },
        "id": "WPD0VcpV_Poq",
        "outputId": "284754ee-9ccf-400f-d385-fc6a265ea2a7"
      },
      "execution_count": null,
      "outputs": [
        {
          "output_type": "execute_result",
          "data": {
            "text/plain": [
              "                                         title  \\\n",
              "570       속보  강서구  코로나  확진자  명 추가 발생  리치웨이 관련    \n",
              "643            금천구   코로나  확진자 근무지에 출장 선별진료소 운영   \n",
              "576                의성군 코로나 확진자 모두 완치  청정지역  부각   \n",
              "68    전문  남양주시청  번째 확진자 발생 동선공개 화도읍 마석우리 서희스타    \n",
              "732                   경기도 누적 확진자  명 넘어 일만에  명    \n",
              "\n",
              "                                           description  \n",
              "570  강서구  코로나  확진자  명이 추가 발생했다   일 강서구청은  코로나  확진자 ...  \n",
              "643  금천구 구청장 유성훈 는  번 번 확진자가 발생한 지난  일 오후  번 확진자 세 ...  \n",
              "576  받으며  코로나  청정 지역이 됐다  의성군 재난안전대책본부에 따르면 남아있던 환자...  \n",
              "68   남양주시청이  코로나   번째 확진자 발생을 알렸다  남양주시  번째 확진자는  세...  \n",
              "732  경기도는  일  시 기준  코로나  누적 확진자가  명으로  전날보다  명 증가했다...  "
            ],
            "text/html": [
              "\n",
              "  <div id=\"df-94879852-a49b-4cbb-b25f-2cf476a7d0d3\" class=\"colab-df-container\">\n",
              "    <div>\n",
              "<style scoped>\n",
              "    .dataframe tbody tr th:only-of-type {\n",
              "        vertical-align: middle;\n",
              "    }\n",
              "\n",
              "    .dataframe tbody tr th {\n",
              "        vertical-align: top;\n",
              "    }\n",
              "\n",
              "    .dataframe thead th {\n",
              "        text-align: right;\n",
              "    }\n",
              "</style>\n",
              "<table border=\"1\" class=\"dataframe\">\n",
              "  <thead>\n",
              "    <tr style=\"text-align: right;\">\n",
              "      <th></th>\n",
              "      <th>title</th>\n",
              "      <th>description</th>\n",
              "    </tr>\n",
              "  </thead>\n",
              "  <tbody>\n",
              "    <tr>\n",
              "      <th>570</th>\n",
              "      <td>속보  강서구  코로나  확진자  명 추가 발생  리치웨이 관련</td>\n",
              "      <td>강서구  코로나  확진자  명이 추가 발생했다   일 강서구청은  코로나  확진자 ...</td>\n",
              "    </tr>\n",
              "    <tr>\n",
              "      <th>643</th>\n",
              "      <td>금천구   코로나  확진자 근무지에 출장 선별진료소 운영</td>\n",
              "      <td>금천구 구청장 유성훈 는  번 번 확진자가 발생한 지난  일 오후  번 확진자 세 ...</td>\n",
              "    </tr>\n",
              "    <tr>\n",
              "      <th>576</th>\n",
              "      <td>의성군 코로나 확진자 모두 완치  청정지역  부각</td>\n",
              "      <td>받으며  코로나  청정 지역이 됐다  의성군 재난안전대책본부에 따르면 남아있던 환자...</td>\n",
              "    </tr>\n",
              "    <tr>\n",
              "      <th>68</th>\n",
              "      <td>전문  남양주시청  번째 확진자 발생 동선공개 화도읍 마석우리 서희스타</td>\n",
              "      <td>남양주시청이  코로나   번째 확진자 발생을 알렸다  남양주시  번째 확진자는  세...</td>\n",
              "    </tr>\n",
              "    <tr>\n",
              "      <th>732</th>\n",
              "      <td>경기도 누적 확진자  명 넘어 일만에  명</td>\n",
              "      <td>경기도는  일  시 기준  코로나  누적 확진자가  명으로  전날보다  명 증가했다...</td>\n",
              "    </tr>\n",
              "  </tbody>\n",
              "</table>\n",
              "</div>\n",
              "    <div class=\"colab-df-buttons\">\n",
              "\n",
              "  <div class=\"colab-df-container\">\n",
              "    <button class=\"colab-df-convert\" onclick=\"convertToInteractive('df-94879852-a49b-4cbb-b25f-2cf476a7d0d3')\"\n",
              "            title=\"Convert this dataframe to an interactive table.\"\n",
              "            style=\"display:none;\">\n",
              "\n",
              "  <svg xmlns=\"http://www.w3.org/2000/svg\" height=\"24px\" viewBox=\"0 -960 960 960\">\n",
              "    <path d=\"M120-120v-720h720v720H120Zm60-500h600v-160H180v160Zm220 220h160v-160H400v160Zm0 220h160v-160H400v160ZM180-400h160v-160H180v160Zm440 0h160v-160H620v160ZM180-180h160v-160H180v160Zm440 0h160v-160H620v160Z\"/>\n",
              "  </svg>\n",
              "    </button>\n",
              "\n",
              "  <style>\n",
              "    .colab-df-container {\n",
              "      display:flex;\n",
              "      gap: 12px;\n",
              "    }\n",
              "\n",
              "    .colab-df-convert {\n",
              "      background-color: #E8F0FE;\n",
              "      border: none;\n",
              "      border-radius: 50%;\n",
              "      cursor: pointer;\n",
              "      display: none;\n",
              "      fill: #1967D2;\n",
              "      height: 32px;\n",
              "      padding: 0 0 0 0;\n",
              "      width: 32px;\n",
              "    }\n",
              "\n",
              "    .colab-df-convert:hover {\n",
              "      background-color: #E2EBFA;\n",
              "      box-shadow: 0px 1px 2px rgba(60, 64, 67, 0.3), 0px 1px 3px 1px rgba(60, 64, 67, 0.15);\n",
              "      fill: #174EA6;\n",
              "    }\n",
              "\n",
              "    .colab-df-buttons div {\n",
              "      margin-bottom: 4px;\n",
              "    }\n",
              "\n",
              "    [theme=dark] .colab-df-convert {\n",
              "      background-color: #3B4455;\n",
              "      fill: #D2E3FC;\n",
              "    }\n",
              "\n",
              "    [theme=dark] .colab-df-convert:hover {\n",
              "      background-color: #434B5C;\n",
              "      box-shadow: 0px 1px 3px 1px rgba(0, 0, 0, 0.15);\n",
              "      filter: drop-shadow(0px 1px 2px rgba(0, 0, 0, 0.3));\n",
              "      fill: #FFFFFF;\n",
              "    }\n",
              "  </style>\n",
              "\n",
              "    <script>\n",
              "      const buttonEl =\n",
              "        document.querySelector('#df-94879852-a49b-4cbb-b25f-2cf476a7d0d3 button.colab-df-convert');\n",
              "      buttonEl.style.display =\n",
              "        google.colab.kernel.accessAllowed ? 'block' : 'none';\n",
              "\n",
              "      async function convertToInteractive(key) {\n",
              "        const element = document.querySelector('#df-94879852-a49b-4cbb-b25f-2cf476a7d0d3');\n",
              "        const dataTable =\n",
              "          await google.colab.kernel.invokeFunction('convertToInteractive',\n",
              "                                                    [key], {});\n",
              "        if (!dataTable) return;\n",
              "\n",
              "        const docLinkHtml = 'Like what you see? Visit the ' +\n",
              "          '<a target=\"_blank\" href=https://colab.research.google.com/notebooks/data_table.ipynb>data table notebook</a>'\n",
              "          + ' to learn more about interactive tables.';\n",
              "        element.innerHTML = '';\n",
              "        dataTable['output_type'] = 'display_data';\n",
              "        await google.colab.output.renderOutput(dataTable, element);\n",
              "        const docLink = document.createElement('div');\n",
              "        docLink.innerHTML = docLinkHtml;\n",
              "        element.appendChild(docLink);\n",
              "      }\n",
              "    </script>\n",
              "  </div>\n",
              "\n",
              "\n",
              "<div id=\"df-213b9dea-5c2d-428d-a2cb-d8213f04f64f\">\n",
              "  <button class=\"colab-df-quickchart\" onclick=\"quickchart('df-213b9dea-5c2d-428d-a2cb-d8213f04f64f')\"\n",
              "            title=\"Suggest charts.\"\n",
              "            style=\"display:none;\">\n",
              "\n",
              "<svg xmlns=\"http://www.w3.org/2000/svg\" height=\"24px\"viewBox=\"0 0 24 24\"\n",
              "     width=\"24px\">\n",
              "    <g>\n",
              "        <path d=\"M19 3H5c-1.1 0-2 .9-2 2v14c0 1.1.9 2 2 2h14c1.1 0 2-.9 2-2V5c0-1.1-.9-2-2-2zM9 17H7v-7h2v7zm4 0h-2V7h2v10zm4 0h-2v-4h2v4z\"/>\n",
              "    </g>\n",
              "</svg>\n",
              "  </button>\n",
              "\n",
              "<style>\n",
              "  .colab-df-quickchart {\n",
              "    background-color: #E8F0FE;\n",
              "    border: none;\n",
              "    border-radius: 50%;\n",
              "    cursor: pointer;\n",
              "    display: none;\n",
              "    fill: #1967D2;\n",
              "    height: 32px;\n",
              "    padding: 0 0 0 0;\n",
              "    width: 32px;\n",
              "  }\n",
              "\n",
              "  .colab-df-quickchart:hover {\n",
              "    background-color: #E2EBFA;\n",
              "    box-shadow: 0px 1px 2px rgba(60, 64, 67, 0.3), 0px 1px 3px 1px rgba(60, 64, 67, 0.15);\n",
              "    fill: #174EA6;\n",
              "  }\n",
              "\n",
              "  [theme=dark] .colab-df-quickchart {\n",
              "    background-color: #3B4455;\n",
              "    fill: #D2E3FC;\n",
              "  }\n",
              "\n",
              "  [theme=dark] .colab-df-quickchart:hover {\n",
              "    background-color: #434B5C;\n",
              "    box-shadow: 0px 1px 3px 1px rgba(0, 0, 0, 0.15);\n",
              "    filter: drop-shadow(0px 1px 2px rgba(0, 0, 0, 0.3));\n",
              "    fill: #FFFFFF;\n",
              "  }\n",
              "</style>\n",
              "\n",
              "  <script>\n",
              "    async function quickchart(key) {\n",
              "      const charts = await google.colab.kernel.invokeFunction(\n",
              "          'suggestCharts', [key], {});\n",
              "    }\n",
              "    (() => {\n",
              "      let quickchartButtonEl =\n",
              "        document.querySelector('#df-213b9dea-5c2d-428d-a2cb-d8213f04f64f button');\n",
              "      quickchartButtonEl.style.display =\n",
              "        google.colab.kernel.accessAllowed ? 'block' : 'none';\n",
              "    })();\n",
              "  </script>\n",
              "</div>\n",
              "    </div>\n",
              "  </div>\n"
            ]
          },
          "metadata": {},
          "execution_count": 32
        }
      ]
    },
    {
      "cell_type": "code",
      "source": [
        "# 사용자 입력을 받아 감성 분석 결과를 출력하는 함수\n",
        "\n",
        "def sentiment_analysis():\n",
        "    test = input('감성 분석할 문장입력 >> ')\n",
        "\n",
        "    # 입력 텍스트에 대한 전처리 수행\n",
        "    test = re.compile(r'[ㄱ-ㅣ가-힣]+').findall(test)\n",
        "    test = [\" \".join(test)]\n",
        "\n",
        "    # 입력 텍스트의 피처 벡터화\n",
        "    test_tfidf = tfidf_vectorizer.transform(test)\n",
        "\n",
        "    # 감성분석 모델에 적용하여 감성 분석 평가\n",
        "    test_predict = logreg_combined.predict(test_tfidf)\n",
        "\n",
        "    # 예측 값 출력하기\n",
        "    if(test_predict == 0):\n",
        "        return test[0] + \" ->> 부정 감성\"\n",
        "    else:\n",
        "        return test[0] + \" ->> 긍정 감성\"\n",
        "\n",
        "# 함수를 실행하여 결과 확인\n",
        "sentiment_result = sentiment_analysis()\n",
        "sentiment_result\n"
      ],
      "metadata": {
        "colab": {
          "base_uri": "https://localhost:8080/",
          "height": 54
        },
        "id": "YiBp5Kh-_P0b",
        "outputId": "3e7cfe0f-b6d7-474c-a616-fea5d0b0c6ab"
      },
      "execution_count": null,
      "outputs": [
        {
          "name": "stdout",
          "output_type": "stream",
          "text": [
            "감성 분석할 문장입력 >> 코로나 확진\n"
          ]
        },
        {
          "output_type": "execute_result",
          "data": {
            "text/plain": [
              "'코로나 확진 ->> 부정 감성'"
            ],
            "application/vnd.google.colaboratory.intrinsic+json": {
              "type": "string"
            }
          },
          "metadata": {},
          "execution_count": 34
        }
      ]
    },
    {
      "cell_type": "code",
      "source": [],
      "metadata": {
        "id": "KOijpdSeAaCB"
      },
      "execution_count": null,
      "outputs": []
    }
  ]
}